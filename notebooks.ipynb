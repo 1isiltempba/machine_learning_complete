{
 "cells": [
  {
   "cell_type": "markdown",
   "source": [
    "# A Complete Machine Learning Package\n",
    "\n",
    "****************\n",
    "\n",
    "***Techniques, tools, best practices and everything you need to to learn machine learning!***\n",
    "\n",
    "\n",
    "This is a comprehensive repository containing 30+ notebooks on Python programming, data manipulation, data analysis, data visualization, data cleaning, classical machine learning, Computer Vision and Natural Language Processing(NLP). \n",
    "\n",
    "All notebooks were created with the readers in mind. Every notebook starts with a high-level overview of any specific algorithm/concept being covered. Wherever possible, visuals are used to make things clear. "
   ],
   "metadata": {}
  },
  {
   "cell_type": "markdown",
   "source": [
    "# List of Notebooks\n",
    "\n",
    "## Part 1: Programming and Working with Data\n",
    "\n",
    "* [Intro to Python for Machine Learning](/0_python_for_ml/intro_to_python.ipynb)\n",
    "\n",
    "* [Data Computation With NumPy](/1_data_computations_with_numpy/1_intro_to_Numpy_for_data_computation.ipynb)\n",
    "* [Data Manipulation with Pandas](/2_data_manipulation_with_pandas)\n",
    "\n",
    "### Data Visualization\n",
    "\n",
    "* [Data Visualization with Matplotlib](/github/Nyandwi/machine_learning_complete/blob/main/3_data_visualization/1_data_visualizations_with_matplotlib.ipynb)\n",
    "* [Data Visualization with Seaborn](/3_data_visualization/2_data_visualization_with_seaborn.ipynb)\n",
    "* [Optional: Data Visualization with Pandas](3_data_visualization/3_data_visualization%20with_pandas.ipynb)\n",
    "\n",
    "### Real World Data - Exploratory Analysis and Data Preparation\n",
    "\n",
    "* [Exploratory Data Analysis](4_real_world_data_analysis_and_preparation/1_exploratory_data_analysis.ipynb)\n",
    "* [Intro to Data Preparation](4_real_world_data_analysis_and_preparation/2_intro_to_data_preparation.ipynb)\n",
    "* [Handling Categorical Features](4_real_world_data_analysis_and_preparation/3_encoding_categorical_features.ipynb)\n",
    "* [Feature Scaling](4_real_world_data_analysis_and_preparation/4_feature_scaling.ipynb)\n",
    "* [Handling Missing Values](4_real_world_data_analysis_and_preparation/5_handling_missing_values.ipynb)\n",
    "\n",
    "\n",
    "## Part 2 - Machine Learning\n",
    "\n",
    "* [Intro to Machine Learning](5_intro_to_machine_learning/5_intro_to_machine_learning.ipynb)\n",
    "\n",
    "\n",
    "### Classical Machine Learning with Scikit-Learn\n",
    "\n",
    "* [Intro to Scikit-Learn for Machine Learning](6_classical_machine_learning_with_scikit-learn/0_intro_to_sklearn.ipynb)\n",
    "* [Linear Models for Regression](6_classical_machine_learning_with_scikit-learn/1_linear_models_for_regression.ipynb)\n",
    "* [Linear Models for Classification](6_classical_machine_learning_with_scikit-learn/2_linear_models_for_classification.ipynb)\n",
    "* [Support Vector Machines: Intro and Regression](6_classical_machine_learning_with_scikit-learn/3_support_vector_machines_for_regression.ipynb)\n",
    "* [Support Vector Machines for Classification](6_classical_machine_learning_with_scikit-learn/4_support_vector_machines_for_classification.ipynb)\n",
    "* [Decision Trees: Intro and Regression](6_classical_machine_learning_with_scikit-learn/5_decision_trees_for_regression.ipynb)\n",
    "* [Decision Trees for Classification](6_classical_machine_learning_with_scikit-learn/6_decision_trees_for_classification.ipynb)\n",
    "* [Random Forests: Intro and Regression](6_classical_machine_learning_with_scikit-learn/7_random_forests_for_regression.ipynb)\n",
    "* [Random Forests for Classification](6_classical_machine_learning_with_scikit-learn/8_random_forests_for_classification.ipynb)\n",
    "* [Beyond Random Forests: More Ensemble Models](6_classical_machine_learning_with_scikit-learn/9_ensemble_models.ipynb)\n",
    "* [Intro to Unsupervised Learning with KMeans Clustering](6_classical_machine_learning_with_scikit-learn/10_intro_to_unsupervised_learning_with_kmeans_clustering.ipynb)\n",
    "* [A Practical Intro to Principal Component Analysis](6_classical_machine_learning_with_scikit-learn/11_a_practical_intro_to_principal_components_analysis.ipynb)\n",
    "\n",
    "Part 3 - Deep Learning\n",
    "\n",
    "### Intro to Artificial Neural Networks and TensorFlow\n",
    "\n",
    "* [Intro to Articial Neural Networks](7_intro_to_artificial%_neural_networks_and_tensorflow/1_intro_to_neural_networks.ipynb)  \n",
    "* [Intro to TensorFlow for Artificial Neural Networks](7_intro_to_artificial%_neural_networks_and_tensorflow/2_intro_to_tensorflow_for_deeplearning.ipynb)  \n",
    "* [Neural Networks for Regression with TensorFlow](7_intro_to_artificial%_neural_networks_and_tensorflow/3_neural_networks_for_regresion_with_tensorflow.ipynb)\n",
    "* [Neural Networks for Classification with TensorFlown](7_intro_to_artificial%_neural_networks_and_tensorflow/4_neural_networks_for_classification_with_tensorflow.ipynb)\n",
    "\n",
    "\n",
    "### Deep Computer Vision with TensorFlow\n",
    " \n",
    "* [Intro to Computer Vision with Convolutional Neural Networks(CNN)](8_deep_computer_vision_with_tensorflow/1_intro_to_computer_vision_and_cnn.ipynb)\n",
    "* [ConvNets for Real World Data and Image Augmentation](8_deep_computer_vision_with_tensorflow/2_cnn_for_real_world_data_and_image_augmentation.ipynb)\n",
    "* [CNN Architectures and Transfer Learning](8_deep_computer_vision_with_tensorflow/3_cnn_architectures_and_transfer_learning.ipynb)\n",
    "\n",
    "\n",
    "### Natural Language Processing with TensorFlow\n",
    "\n",
    "* [Intro to NLP and Text Processing with TensorFlow](9_nlp_with_tensorflow/1_intro_to_nlp_and_text_preprocessing.ipynb)\n",
    "* [Using Word Embeddings to Represent Texts](9_nlp_with_tensorflow/2_using_word_embeddings_to_represent_texts.ipynb)\n",
    "* [Recurrent Neural Networks (RNNs)](9_nlp_with_tensorflow/3_recurrent_neural_networks.ipynb)    \n",
    "* [Using Convolutional Neural Networks for Texts Classification](9_nlp_with_tensorflow/4_using_cnns_and_rnns_for_texts_classification.ipynb)\n",
    "* [Using Pretrained BERT for Text Classification](9_nlp_with_tensorflow/5_using_pretrained_bert_for_text_classification.ipynb)"
   ],
   "metadata": {}
  },
  {
   "cell_type": "markdown",
   "source": [
    " *******\n",
    "\n",
    "This repository was created by Jean de Dieu Nyandwi. You can find him on: \n",
    "* [Twitter](https://twitter.com/jeande_d)\n",
    "* [LinkedIn](https://linkedin.com/in/nyandwi)\n",
    "* [Medium](https://jeande.medium.com)\n",
    "* [Hashnode](https://jeande.tech)\n",
    "* [Instagram](https://instgram.com/jeande_d)\n",
    "* [Newsletter: Deep Learning Revision](https://www.getrevue.co/profile/deepyearning)\n",
    "\n",
    "\n",
    "### *If you find any of this thing helpful, shoot me a [tweet](https://twitter.com/jeande_d) or a mention :)*\n"
   ],
   "metadata": {}
  },
  {
   "cell_type": "markdown",
   "source": [],
   "metadata": {}
  }
 ],
 "metadata": {
  "kernelspec": {
   "display_name": "Python 3",
   "language": "python",
   "name": "python3"
  },
  "language_info": {
   "codemirror_mode": {
    "name": "ipython",
    "version": 3
   },
   "file_extension": ".py",
   "mimetype": "text/x-python",
   "name": "python",
   "nbconvert_exporter": "python",
   "pygments_lexer": "ipython3",
   "version": "3.7.10"
  },
  "nav_menu": {},
  "toc": {
   "navigate_menu": true,
   "number_sections": true,
   "sideBar": true,
   "threshold": 6,
   "toc_cell": false,
   "toc_section_display": "block",
   "toc_window_display": false
  }
 },
 "nbformat": 4,
 "nbformat_minor": 4
}
