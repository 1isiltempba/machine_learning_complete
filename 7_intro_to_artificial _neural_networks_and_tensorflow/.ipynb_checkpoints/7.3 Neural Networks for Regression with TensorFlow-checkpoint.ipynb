{
 "cells": [
  {
   "cell_type": "markdown",
   "id": "304ad719",
   "metadata": {
    "id": "304ad719"
   },
   "source": [
    "<a name='0'></a>\n",
    "# Neural Networks for Regression with TensorFlow"
   ]
  },
  {
   "cell_type": "markdown",
   "id": "b6a095ea",
   "metadata": {
    "id": "b6a095ea"
   },
   "source": [
    "### Contents \n",
    "\n",
    "* [1. Intro to Regression with TensorFlow](#1)\n",
    "* [2. Starting Simple: Fitting a Straight Line](#2)\n",
    "   * [2.1 Gathering the data](#2-1)\n",
    "   * [2.2 Looking in the data](#2-2)\n",
    "   * [2.3 Preparing the data for a model](#2-3)\n",
    "   * [2.4 Creating, Compiling and Training a model](#2-4)\n",
    "   * [2.5 Evaluating a model](#2-5)\n",
    "   * [2.6 Improving a model](#2-6)\n",
    "  \n",
    "\n",
    "* [3. Going Beyond: A Real world dataset](#3)\n",
    "   * [3.1 Gathering the data](#3-1)\n",
    "   * [3.2 Looking in the data](#3-2)\n",
    "   * [3.3 Preparing the data for a model](#3-3)\n",
    "   * [3.4 Creating, Compiling and Training a model](#3-4)\n",
    "   * [3.5 Evaluating a model](#3-5)\n",
    "   * [3.6 Saving a model](#3-6)\n",
    "   * [3.7 Final notes](#3-7)\n"
   ]
  },
  {
   "cell_type": "markdown",
   "id": "AAqeb2v2jSWT",
   "metadata": {
    "id": "AAqeb2v2jSWT"
   },
   "source": [
    "<a name='1'></a>\n",
    "## Intro to Regression with TensorFlow"
   ]
  },
  {
   "cell_type": "markdown",
   "id": "hcDOlUdZxDGu",
   "metadata": {
    "id": "hcDOlUdZxDGu"
   },
   "source": [
    "We know neural networks in taking moonshots but they can also be used for regression problems. \n",
    "\n",
    "In regression task/problems, we are interested in predicting the a single or multiple continous numbers. \n",
    "\n",
    "Take an example of house price prediction. We can be given the properties/features of the house such as size, region, and number of bedrooms to predict the price of such house. This example is a single number prediction, also termed as `univariate regression`. \n",
    "\n",
    "Another example appears in object detection(recognizing & localizing image). In order to localize the object with the bounding box, you have got to find the coordinates of the object's center and the bounding box. The prediction of these coordinates is an example of predicting multiple values at once. It is usually termed as `multivariate regression`. "
   ]
  },
  {
   "cell_type": "markdown",
   "id": "jG7bLsj03uxw",
   "metadata": {
    "id": "jG7bLsj03uxw"
   },
   "source": [
    "Any typical architecture for a regression neural network will have common values or ranges of values of `hyperparameters` (hyperparameters are all parameters that you as engineer has to set, such as learning rate, number of layers, etc..). \n",
    "Let's discuss them. \n",
    "\n",
    "\n",
    "#### **Input, hidden, and Output Layers**\n",
    "\n",
    "The input layer usually has the neurons(or units) equivalent to the number of input features. For example, if our house dataset has 10 variables, 9 input training features, 1 target feature(price of house), then the input neurons will be 9. \n",
    "\n",
    "The number of hidden layers depend on the problem and the size of the dataset, but generally, it will be between 1 and 5. Same is true about the number of neurons in each hidden layer, it will depend on the problem & dataset size, but generally, neurons can be between 10 to 100. \n",
    "\n",
    "The number of neurons in output layer will depend on the problem. If you are predicting a single number, it will be 1. If you are predicting the coordinates of the object's center and bounding box during object detection, it will be 4 (because there are 4 coordinates, 2 for object's center, 2 for height/width of the box). \n",
    "\n",
    "\n",
    "#### **Activation Function**\n",
    "\n",
    "The choice of activation function depends on the problem, but in most cases, `relu` will work well in hidden layers. \n",
    "\n",
    "The activation function in the output layer is very specific on the goal of the problem. Unlike neural network classifiers that usually use [`sigmoid`](https://en.wikipedia.org/wiki/Sigmoid_function) or [`softmax`](https://en.wikipedia.org/wiki/Softmax_function), regressor doesn't need to have an activation since you want the output values as they are. That being said, you may want to prevent the negative values in the output layer. In that case, you can use [`ReLU`](https://en.wikipedia.org/wiki/Rectifier_(neural_networks)). \n",
    "\n",
    "\n",
    "#### Training Loss Function\n",
    "\n",
    "The loss function used in regression is usually [`Mean Squared Error(MSE)`](https://en.wikipedia.org/wiki/Mean_squared_error). When you are aware that your dataset contain outliers, you can use [`Mean Absolute Error (MAE)`](https://en.wikipedia.org/wiki/Mean_absolute_error). MAE can potentialy be used in time series prediction since that type of data tends to have outliers.\n",
    "\n",
    "Another loss function that is used alot if [Huber loss](https://www.tensorflow.org/api_docs/python/tf/keras/losses/huber). It is combination of both MSE and MAE. \n",
    "\n",
    "#### Optimizer\n",
    "\n",
    "A good rule of thumb when choosing an optimizer is to start with [Adam](https://www.tensorflow.org/api_docs/python/tf/keras/optimizers/Adam). There are other optimizers that you can try, such as SGD(Stockastic Gradient Descent), RMSProp, Nadam, etc...Learn more about them on [TensorFlow optimizer documentation page](https://www.tensorflow.org/api_docs/python/tf/optimizers). \n",
    "\n",
    "Below is a summary of hyerparameter best practices in neural network regressors.\n",
    "\n",
    "\n",
    "\n",
    "| **Hyperparameter** | **Typical value** |\n",
    "| --- | --- |\n",
    "| Neurons at input layer | 1 neuron per feature |\n",
    "| No of hidden layer(s) | depend on problem, start from 1 to 10 |\n",
    "| Neurons per hidden layer | depend on problem, generally 10 to 100 |\n",
    "| Neurons at input layer | depend on the desired result, 1 for univariate regression |\n",
    "| Activation in hidden layers| Relu or its variants(LeakyReLU, SeLU|\n",
    "| Activation in output layer |None in most cases|\n",
    "| Loss function | MSE or MAE |\n",
    "| Optimizer | SGD, Adam, RMSProp |\n",
    "\n",
    "*Table: Typical values of hyperparameters in neural network regressors*"
   ]
  },
  {
   "cell_type": "markdown",
   "id": "8H7r9hKeHAeM",
   "metadata": {
    "id": "8H7r9hKeHAeM"
   },
   "source": [
    "There are many hyperparameters in neural networks and finding the best values of each and each can be overwhelming. \n",
    "\n",
    "In later notebooks, we will use [Keras Tuner](https://keras.io/keras_tuner/) to search the best hyperparameters whenever possible. It is nearly impossible to assume that a given value of hyperparamater will work well at first. We usually have to experiment with different values. \n",
    "\n",
    "Let's put all of the above into practice, starting simple, and later, taking a futher step into real world dataset."
   ]
  },
  {
   "cell_type": "markdown",
   "id": "9pEQ8VbkIRsO",
   "metadata": {
    "id": "9pEQ8VbkIRsO"
   },
   "source": [
    "<a name='2'></a>\n",
    "\n",
    "## 2. Starting Simple: Fitting a Straight Line"
   ]
  },
  {
   "cell_type": "markdown",
   "id": "I8spI9b6g-vy",
   "metadata": {
    "id": "I8spI9b6g-vy"
   },
   "source": [
    "One of the simplest things we can model is perhaps a linear equation(it has been proven that [neural networks can model any mathematical function](http://neuralnetworksanddeeplearning.com/chap4.html)). \n",
    "\n",
    "So, a linear equation forms a straight line. Its form is `y=aX+b` where a is coefficient (or `weight`) and b is intercept (or `bias`). \n",
    "\n",
    "Let's assume that we have this equation `y=2X+1` and we are interested in using neural networks to predict y given any value of X. \n",
    "\n",
    "But we will start with creating our data based off such equation. "
   ]
  },
  {
   "cell_type": "markdown",
   "id": "AhILzCKOg9mu",
   "metadata": {
    "id": "AhILzCKOg9mu"
   },
   "source": [
    "<a name='2-1'></a>\n",
    "### 2.1  Gathering the data"
   ]
  },
  {
   "cell_type": "markdown",
   "id": "N5UGgGiOk7xO",
   "metadata": {
    "id": "N5UGgGiOk7xO"
   },
   "source": [
    "Let's first import the libraries. I will import `TensorFlow`, `NumPy` and `Matplolib` for plotting the straight line."
   ]
  },
  {
   "cell_type": "code",
   "execution_count": 30,
   "id": "jhhUN8KYlHCd",
   "metadata": {
    "id": "jhhUN8KYlHCd"
   },
   "outputs": [],
   "source": [
    "import tensorflow as tf\n",
    "from tensorflow import keras \n",
    "import numpy as np\n",
    "import matplotlib.pyplot as plt\n",
    "import pandas as pd"
   ]
  },
  {
   "cell_type": "markdown",
   "id": "98AuRTg8lSPd",
   "metadata": {
    "id": "98AuRTg8lSPd"
   },
   "source": [
    "After we have imported all relevant libraries, it's time to create our data. We only have one input feature (`X`) and output label `y`. \n",
    "\n",
    "We can either create it with `tf.constant()` or `np.array()`. Both will work, but for convenience, let's use `tf.constant()`."
   ]
  },
  {
   "cell_type": "code",
   "execution_count": 31,
   "id": "7f6p8Csdl8Vc",
   "metadata": {
    "id": "7f6p8Csdl8Vc"
   },
   "outputs": [],
   "source": [
    "# Create input feature X\n",
    "\n",
    "X = tf.constant([-2,-1,0.0,1.0,2.0,3.0,4.0,5.0,6.0,7.0,8.0,10,12])\n",
    "\n",
    "# Create label y\n",
    "\n",
    "y = tf.constant([-3.0,-1.0,1.0,3.0,5.0,7.0,9.0,11.0,13.0,15.0,17.0,21.0,25.0])"
   ]
  },
  {
   "cell_type": "markdown",
   "id": "nwPHdU4ZqUbK",
   "metadata": {
    "id": "nwPHdU4ZqUbK"
   },
   "source": [
    "<a name='2-2'></a>\n",
    "### 2.2  Looking in the Data\n",
    "\n",
    "It's always good to look in the data. This can be done in many ways and it depend on the kind of the dataset. If you're working with images, you might want to go through some images and their labels looking if there are no mislabelling. \n",
    "\n",
    "In structured data, or data in tabular form, you might have to visualize the distribution of individual features or plot their relationship. \n",
    "\n",
    "For us now, we have a simple data. Let's scatter plot X and y."
   ]
  },
  {
   "cell_type": "code",
   "execution_count": 32,
   "id": "YKQFuvyLqkA6",
   "metadata": {
    "colab": {
     "base_uri": "https://localhost:8080/",
     "height": 296
    },
    "id": "YKQFuvyLqkA6",
    "outputId": "d79a78c6-7c20-4061-e2b1-0c08fd352647"
   },
   "outputs": [
    {
     "data": {
      "text/plain": [
       "Text(0, 0.5, 'y')"
      ]
     },
     "execution_count": 32,
     "metadata": {
      "tags": []
     },
     "output_type": "execute_result"
    },
    {
     "data": {
      "image/png": "[encoded data removed]",
      "text/plain": [
       "<Figure size 432x288 with 1 Axes>"
      ]
     },
     "metadata": {
      "needs_background": "light",
      "tags": []
     },
     "output_type": "display_data"
    }
   ],
   "source": [
    "# Visualizing X and y\n",
    "\n",
    "plt.plot(X,y) #This will plot a line\n",
    "plt.scatter(X,y) \n",
    "plt.annotate('y=2X+1', xy=(3,4))\n",
    "plt.xlabel('X')\n",
    "plt.ylabel('y')"
   ]
  },
  {
   "cell_type": "markdown",
   "id": "StLIYBqUu_pe",
   "metadata": {
    "id": "StLIYBqUu_pe"
   },
   "source": [
    "<a name='2-3'></a>\n",
    "### 2.3  Preparing data for the model\n",
    "\n",
    "Usually when working with real world datasets, we need to spend an enourmous amount of time preparing it. The type of things to be done depend on the kind of the dataset, but typically, it can be removing/filling missing values, scaling the features either with normalization or standardization, and so on. \n",
    "\n",
    "For now, we can leave our data as it is. In the next labs, we will see some real world datasets that needs extra work before feeding them to the machine learning model."
   ]
  },
  {
   "cell_type": "markdown",
   "id": "u8JV6HwXxcDM",
   "metadata": {
    "id": "u8JV6HwXxcDM"
   },
   "source": [
    "<a name='2-4'></a>\n",
    "### 2.4  Creating, Compiling and Training a Model"
   ]
  },
  {
   "cell_type": "markdown",
   "id": "-SfBQQunx710",
   "metadata": {
    "id": "-SfBQQunx710"
   },
   "source": [
    "We are going to create the model having a one layer, one neuron(or unit) and as the input data is a single number, we will set the `input_shape` to `[1]`. \n",
    "\n",
    "Later, we will explain everything we did."
   ]
  },
  {
   "cell_type": "code",
   "execution_count": 33,
   "id": "sfadbvPlzFiO",
   "metadata": {
    "id": "sfadbvPlzFiO"
   },
   "outputs": [],
   "source": [
    "model = tf.keras.Sequential([\n",
    "                             \n",
    "                             keras.layers.Dense(units=1, input_shape=[1])\n",
    "])"
   ]
  },
  {
   "cell_type": "markdown",
   "id": "Y-irJjCqzb0P",
   "metadata": {
    "id": "Y-irJjCqzb0P"
   },
   "source": [
    "And we can see the model summary. Model summary is essential for quick review of the model architecture. As you can see, we only have one dense layer, and 2 parameters(weight and bias)."
   ]
  },
  {
   "cell_type": "code",
   "execution_count": 34,
   "id": "jqyr0pCwzeGy",
   "metadata": {
    "colab": {
     "base_uri": "https://localhost:8080/"
    },
    "id": "jqyr0pCwzeGy",
    "outputId": "bb1bac8c-e54f-4ba0-fb19-a0c4a50c7db0"
   },
   "outputs": [
    {
     "name": "stdout",
     "output_type": "stream",
     "text": [
      "Model: \"sequential_1\"\n",
      "_________________________________________________________________\n",
      "Layer (type)                 Output Shape              Param #   \n",
      "=================================================================\n",
      "dense_1 (Dense)              (None, 1)                 2         \n",
      "=================================================================\n",
      "Total params: 2\n",
      "Trainable params: 2\n",
      "Non-trainable params: 0\n",
      "_________________________________________________________________\n"
     ]
    }
   ],
   "source": [
    "model.summary()"
   ]
  },
  {
   "cell_type": "markdown",
   "id": "pt6VEiYxz-GI",
   "metadata": {
    "id": "pt6VEiYxz-GI"
   },
   "source": [
    "The model that we created is called a  Sequential model. We create it by adding one layer after another. If we had many layers, it would be like a sequence or series of layers, one after another, from the input to the ouput. You can learn more about Sequential API [here](https://keras.io/api/models/sequential/)."
   ]
  },
  {
   "cell_type": "markdown",
   "id": "EUdQUMUp1O47",
   "metadata": {
    "id": "EUdQUMUp1O47"
   },
   "source": [
    "After we have created the model, all we have is an empty graphs. We need to do two more things, compiling and training/fitting the model to the presented data. "
   ]
  },
  {
   "cell_type": "code",
   "execution_count": 35,
   "id": "-6HLWEe62CBC",
   "metadata": {
    "id": "-6HLWEe62CBC"
   },
   "outputs": [],
   "source": [
    "model.compile(optimizer='sgd', \n",
    "              loss='mean_squared_error',\n",
    "              metrics=['mse'])"
   ]
  },
  {
   "cell_type": "markdown",
   "id": "GI77KEDn2Bac",
   "metadata": {
    "id": "GI77KEDn2Bac"
   },
   "source": [
    "The single most reason of why we compile the model is to specify the optimizer, loss function and the metrics that we want to track during training. \n",
    "\n",
    "During training, loss function will be used to measure the difference between the prediction and the actual output. Such difference is called `error`, but we want to measure the `the mean of squared error`, hence the name.\n",
    "\n",
    "`Error = Actual value – Predicted value`. \n",
    "\n",
    "On the otherhand, optimizer is used to reduce the error between the actual output and predicted value. The optimizer will make continous guesses until the minimum error is reached. There are many optimizers, but for now let's use SGD (Stockastic Gradient Descent). In later labs, we will explore other optimizers. \n",
    "\n",
    "By fitting the model to the data, here are what happen:\n",
    "\n",
    "* The model iterate through each input data point and estimate prediction \n",
    "* The difference between the actual and predicted value or error is calculated by loss function\n",
    "* The error is minimized by optimizer as we go through the data\n",
    "* The above iteration continue until the number of epochs are reached. \n",
    "\n",
    "\n",
    "Let's see that in action, fitting the model to the data, calculating and reducing the error until we make 500 turns. "
   ]
  },
  {
   "cell_type": "code",
   "execution_count": 36,
   "id": "pJ8gCQVK4CbR",
   "metadata": {
    "colab": {
     "base_uri": "https://localhost:8080/"
    },
    "id": "pJ8gCQVK4CbR",
    "outputId": "fac617e1-b6dd-475c-fe2b-9e4d75624c11"
   },
   "outputs": [
    {
     "name": "stdout",
     "output_type": "stream",
     "text": [
      "Epoch 1/500\n",
      "1/1 [==============================] - 0s 270ms/step - loss: 226.2254 - mse: 226.2254\n",
      "Epoch 2/500\n",
      "1/1 [==============================] - 0s 5ms/step - loss: 19.5842 - mse: 19.5842\n",
      "Epoch 3/500\n",
      "1/1 [==============================] - 0s 6ms/step - loss: 1.8814 - mse: 1.8814\n",
      "Epoch 4/500\n",
      "1/1 [==============================] - 0s 7ms/step - loss: 0.3613 - mse: 0.3613\n",
      "Epoch 5/500\n",
      "1/1 [==============================] - 0s 4ms/step - loss: 0.2273 - mse: 0.2273\n",
      "Epoch 6/500\n",
      "1/1 [==============================] - 0s 14ms/step - loss: 0.2121 - mse: 0.2121\n",
      "Epoch 7/500\n",
      "1/1 [==============================] - 0s 5ms/step - loss: 0.2071 - mse: 0.2071\n",
      "Epoch 8/500\n",
      "1/1 [==============================] - 0s 5ms/step - loss: 0.2031 - mse: 0.2031\n",
      "Epoch 9/500\n",
      "1/1 [==============================] - 0s 5ms/step - loss: 0.1992 - mse: 0.1992\n",
      "Epoch 10/500\n",
      "1/1 [==============================] - 0s 5ms/step - loss: 0.1954 - mse: 0.1954\n",
      "Epoch 11/500\n",
      "1/1 [==============================] - 0s 4ms/step - loss: 0.1917 - mse: 0.1917\n",
      "Epoch 12/500\n",
      "1/1 [==============================] - 0s 4ms/step - loss: 0.1880 - mse: 0.1880\n",
      "Epoch 13/500\n",
      "1/1 [==============================] - 0s 4ms/step - loss: 0.1844 - mse: 0.1844\n",
      "Epoch 14/500\n",
      "1/1 [==============================] - 0s 6ms/step - loss: 0.1809 - mse: 0.1809\n",
      "Epoch 15/500\n",
      "1/1 [==============================] - 0s 5ms/step - loss: 0.1774 - mse: 0.1774\n",
      "Epoch 16/500\n",
      "1/1 [==============================] - 0s 4ms/step - loss: 0.1741 - mse: 0.1741\n",
      "Epoch 17/500\n",
      "1/1 [==============================] - 0s 4ms/step - loss: 0.1707 - mse: 0.1707\n",
      "Epoch 18/500\n",
      "1/1 [==============================] - 0s 4ms/step - loss: 0.1675 - mse: 0.1675\n",
      "Epoch 19/500\n",
      "1/1 [==============================] - 0s 4ms/step - loss: 0.1643 - mse: 0.1643\n",
      "Epoch 20/500\n",
      "1/1 [==============================] - 0s 8ms/step - loss: 0.1612 - mse: 0.1612\n",
      "Epoch 21/500\n",
      "1/1 [==============================] - 0s 4ms/step - loss: 0.1581 - mse: 0.1581\n",
      "Epoch 22/500\n",
      "1/1 [==============================] - 0s 5ms/step - loss: 0.1551 - mse: 0.1551\n",
      "Epoch 23/500\n",
      "1/1 [==============================] - 0s 6ms/step - loss: 0.1521 - mse: 0.1521\n",
      "Epoch 24/500\n",
      "1/1 [==============================] - 0s 6ms/step - loss: 0.1492 - mse: 0.1492\n",
      "Epoch 25/500\n",
      "1/1 [==============================] - 0s 8ms/step - loss: 0.1464 - mse: 0.1464\n",
      "Epoch 26/500\n",
      "1/1 [==============================] - 0s 4ms/step - loss: 0.1436 - mse: 0.1436\n",
      "Epoch 27/500\n",
      "1/1 [==============================] - 0s 4ms/step - loss: 0.1408 - mse: 0.1408\n",
      "Epoch 28/500\n",
      "1/1 [==============================] - 0s 5ms/step - loss: 0.1381 - mse: 0.1381\n",
      "Epoch 29/500\n",
      "1/1 [==============================] - 0s 4ms/step - loss: 0.1355 - mse: 0.1355\n",
      "Epoch 30/500\n",
      "1/1 [==============================] - 0s 6ms/step - loss: 0.1329 - mse: 0.1329\n",
      "Epoch 31/500\n",
      "1/1 [==============================] - 0s 5ms/step - loss: 0.1304 - mse: 0.1304\n",
      "Epoch 32/500\n",
      "1/1 [==============================] - 0s 4ms/step - loss: 0.1279 - mse: 0.1279\n",
      "Epoch 33/500\n",
      "1/1 [==============================] - 0s 5ms/step - loss: 0.1255 - mse: 0.1255\n",
      "Epoch 34/500\n",
      "1/1 [==============================] - 0s 5ms/step - loss: 0.1231 - mse: 0.1231\n",
      "Epoch 35/500\n",
      "1/1 [==============================] - 0s 6ms/step - loss: 0.1207 - mse: 0.1207\n",
      "Epoch 36/500\n",
      "1/1 [==============================] - 0s 3ms/step - loss: 0.1184 - mse: 0.1184\n",
      "Epoch 37/500\n",
      "1/1 [==============================] - 0s 4ms/step - loss: 0.1162 - mse: 0.1162\n",
      "Epoch 38/500\n",
      "1/1 [==============================] - 0s 4ms/step - loss: 0.1139 - mse: 0.1139\n",
      "Epoch 39/500\n",
      "1/1 [==============================] - 0s 9ms/step - loss: 0.1118 - mse: 0.1118\n",
      "Epoch 40/500\n",
      "1/1 [==============================] - 0s 7ms/step - loss: 0.1096 - mse: 0.1096\n",
      "Epoch 41/500\n",
      "1/1 [==============================] - 0s 12ms/step - loss: 0.1075 - mse: 0.1075\n",
      "Epoch 42/500\n",
      "1/1 [==============================] - 0s 9ms/step - loss: 0.1055 - mse: 0.1055\n",
      "Epoch 43/500\n",
      "1/1 [==============================] - 0s 4ms/step - loss: 0.1035 - mse: 0.1035\n",
      "Epoch 44/500\n",
      "1/1 [==============================] - 0s 7ms/step - loss: 0.1015 - mse: 0.1015\n",
      "Epoch 45/500\n",
      "1/1 [==============================] - 0s 4ms/step - loss: 0.0996 - mse: 0.0996\n",
      "Epoch 46/500\n",
      "1/1 [==============================] - 0s 4ms/step - loss: 0.0977 - mse: 0.0977\n",
      "Epoch 47/500\n",
      "1/1 [==============================] - 0s 5ms/step - loss: 0.0958 - mse: 0.0958\n",
      "Epoch 48/500\n",
      "1/1 [==============================] - 0s 6ms/step - loss: 0.0940 - mse: 0.0940\n",
      "Epoch 49/500\n",
      "1/1 [==============================] - 0s 4ms/step - loss: 0.0922 - mse: 0.0922\n",
      "Epoch 50/500\n",
      "1/1 [==============================] - 0s 4ms/step - loss: 0.0904 - mse: 0.0904\n",
      "Epoch 51/500\n",
      "1/1 [==============================] - 0s 4ms/step - loss: 0.0887 - mse: 0.0887\n",
      "Epoch 52/500\n",
      "1/1 [==============================] - 0s 4ms/step - loss: 0.0870 - mse: 0.0870\n",
      "Epoch 53/500\n",
      "1/1 [==============================] - 0s 5ms/step - loss: 0.0854 - mse: 0.0854\n",
      "Epoch 54/500\n",
      "1/1 [==============================] - 0s 5ms/step - loss: 0.0837 - mse: 0.0837\n",
      "Epoch 55/500\n",
      "1/1 [==============================] - 0s 5ms/step - loss: 0.0821 - mse: 0.0821\n",
      "Epoch 56/500\n",
      "1/1 [==============================] - 0s 5ms/step - loss: 0.0806 - mse: 0.0806\n",
      "Epoch 57/500\n",
      "1/1 [==============================] - 0s 6ms/step - loss: 0.0790 - mse: 0.0790\n",
      "Epoch 58/500\n",
      "1/1 [==============================] - 0s 4ms/step - loss: 0.0775 - mse: 0.0775\n",
      "Epoch 59/500\n",
      "1/1 [==============================] - 0s 4ms/step - loss: 0.0760 - mse: 0.0760\n",
      "Epoch 60/500\n",
      "1/1 [==============================] - 0s 6ms/step - loss: 0.0746 - mse: 0.0746\n",
      "Epoch 61/500\n",
      "1/1 [==============================] - 0s 4ms/step - loss: 0.0732 - mse: 0.0732\n",
      "Epoch 62/500\n",
      "1/1 [==============================] - 0s 9ms/step - loss: 0.0718 - mse: 0.0718\n",
      "Epoch 63/500\n",
      "1/1 [==============================] - 0s 4ms/step - loss: 0.0704 - mse: 0.0704\n",
      "Epoch 64/500\n",
      "1/1 [==============================] - 0s 4ms/step - loss: 0.0691 - mse: 0.0691\n",
      "Epoch 65/500\n",
      "1/1 [==============================] - 0s 3ms/step - loss: 0.0677 - mse: 0.0677\n",
      "Epoch 66/500\n",
      "1/1 [==============================] - 0s 5ms/step - loss: 0.0664 - mse: 0.0664\n",
      "Epoch 67/500\n",
      "1/1 [==============================] - 0s 12ms/step - loss: 0.0652 - mse: 0.0652\n",
      "Epoch 68/500\n",
      "1/1 [==============================] - 0s 4ms/step - loss: 0.0639 - mse: 0.0639\n",
      "Epoch 69/500\n",
      "1/1 [==============================] - 0s 6ms/step - loss: 0.0627 - mse: 0.0627\n",
      "Epoch 70/500\n",
      "1/1 [==============================] - 0s 4ms/step - loss: 0.0615 - mse: 0.0615\n",
      "Epoch 71/500\n",
      "1/1 [==============================] - 0s 7ms/step - loss: 0.0603 - mse: 0.0603\n",
      "Epoch 72/500\n",
      "1/1 [==============================] - 0s 4ms/step - loss: 0.0592 - mse: 0.0592\n",
      "Epoch 73/500\n",
      "1/1 [==============================] - 0s 8ms/step - loss: 0.0581 - mse: 0.0581\n",
      "Epoch 74/500\n",
      "1/1 [==============================] - 0s 5ms/step - loss: 0.0570 - mse: 0.0570\n",
      "Epoch 75/500\n",
      "1/1 [==============================] - 0s 5ms/step - loss: 0.0559 - mse: 0.0559\n",
      "Epoch 76/500\n",
      "1/1 [==============================] - 0s 4ms/step - loss: 0.0548 - mse: 0.0548\n",
      "Epoch 77/500\n",
      "1/1 [==============================] - 0s 5ms/step - loss: 0.0538 - mse: 0.0538\n",
      "Epoch 78/500\n",
      "1/1 [==============================] - 0s 4ms/step - loss: 0.0527 - mse: 0.0527\n",
      "Epoch 79/500\n",
      "1/1 [==============================] - 0s 6ms/step - loss: 0.0517 - mse: 0.0517\n",
      "Epoch 80/500\n",
      "1/1 [==============================] - 0s 4ms/step - loss: 0.0507 - mse: 0.0507\n",
      "Epoch 81/500\n",
      "1/1 [==============================] - 0s 5ms/step - loss: 0.0498 - mse: 0.0498\n",
      "Epoch 82/500\n",
      "1/1 [==============================] - 0s 5ms/step - loss: 0.0488 - mse: 0.0488\n",
      "Epoch 83/500\n",
      "1/1 [==============================] - 0s 5ms/step - loss: 0.0479 - mse: 0.0479\n",
      "Epoch 84/500\n",
      "1/1 [==============================] - 0s 7ms/step - loss: 0.0470 - mse: 0.0470\n",
      "Epoch 85/500\n",
      "1/1 [==============================] - 0s 4ms/step - loss: 0.0461 - mse: 0.0461\n",
      "Epoch 86/500\n",
      "1/1 [==============================] - 0s 4ms/step - loss: 0.0452 - mse: 0.0452\n",
      "Epoch 87/500\n",
      "1/1 [==============================] - 0s 3ms/step - loss: 0.0443 - mse: 0.0443\n",
      "Epoch 88/500\n",
      "1/1 [==============================] - 0s 6ms/step - loss: 0.0435 - mse: 0.0435\n",
      "Epoch 89/500\n",
      "1/1 [==============================] - 0s 4ms/step - loss: 0.0427 - mse: 0.0427\n",
      "Epoch 90/500\n",
      "1/1 [==============================] - 0s 5ms/step - loss: 0.0419 - mse: 0.0419\n",
      "Epoch 91/500\n",
      "1/1 [==============================] - 0s 3ms/step - loss: 0.0411 - mse: 0.0411\n",
      "Epoch 92/500\n",
      "1/1 [==============================] - 0s 5ms/step - loss: 0.0403 - mse: 0.0403\n",
      "Epoch 93/500\n",
      "1/1 [==============================] - 0s 6ms/step - loss: 0.0395 - mse: 0.0395\n",
      "Epoch 94/500\n",
      "1/1 [==============================] - 0s 5ms/step - loss: 0.0388 - mse: 0.0388\n",
      "Epoch 95/500\n",
      "1/1 [==============================] - 0s 7ms/step - loss: 0.0380 - mse: 0.0380\n",
      "Epoch 96/500\n",
      "1/1 [==============================] - 0s 4ms/step - loss: 0.0373 - mse: 0.0373\n",
      "Epoch 97/500\n",
      "1/1 [==============================] - 0s 3ms/step - loss: 0.0366 - mse: 0.0366\n",
      "Epoch 98/500\n",
      "1/1 [==============================] - 0s 3ms/step - loss: 0.0359 - mse: 0.0359\n",
      "Epoch 99/500\n",
      "1/1 [==============================] - 0s 5ms/step - loss: 0.0352 - mse: 0.0352\n",
      "Epoch 100/500\n",
      "1/1 [==============================] - 0s 3ms/step - loss: 0.0345 - mse: 0.0345\n",
      "Epoch 101/500\n",
      "1/1 [==============================] - 0s 11ms/step - loss: 0.0339 - mse: 0.0339\n",
      "Epoch 102/500\n",
      "1/1 [==============================] - 0s 4ms/step - loss: 0.0332 - mse: 0.0332\n",
      "Epoch 103/500\n",
      "1/1 [==============================] - 0s 15ms/step - loss: 0.0326 - mse: 0.0326\n",
      "Epoch 104/500\n",
      "1/1 [==============================] - 0s 4ms/step - loss: 0.0320 - mse: 0.0320\n",
      "Epoch 105/500\n",
      "1/1 [==============================] - 0s 6ms/step - loss: 0.0314 - mse: 0.0314\n",
      "Epoch 106/500\n",
      "1/1 [==============================] - 0s 4ms/step - loss: 0.0308 - mse: 0.0308\n",
      "Epoch 107/500\n",
      "1/1 [==============================] - 0s 5ms/step - loss: 0.0302 - mse: 0.0302\n",
      "Epoch 108/500\n",
      "1/1 [==============================] - 0s 8ms/step - loss: 0.0296 - mse: 0.0296\n",
      "Epoch 109/500\n",
      "1/1 [==============================] - 0s 4ms/step - loss: 0.0290 - mse: 0.0290\n",
      "Epoch 110/500\n",
      "1/1 [==============================] - 0s 4ms/step - loss: 0.0285 - mse: 0.0285\n",
      "Epoch 111/500\n",
      "1/1 [==============================] - 0s 6ms/step - loss: 0.0279 - mse: 0.0279\n",
      "Epoch 112/500\n",
      "1/1 [==============================] - 0s 10ms/step - loss: 0.0274 - mse: 0.0274\n",
      "Epoch 113/500\n",
      "1/1 [==============================] - 0s 5ms/step - loss: 0.0269 - mse: 0.0269\n",
      "Epoch 114/500\n",
      "1/1 [==============================] - 0s 7ms/step - loss: 0.0264 - mse: 0.0264\n",
      "Epoch 115/500\n",
      "1/1 [==============================] - 0s 4ms/step - loss: 0.0259 - mse: 0.0259\n",
      "Epoch 116/500\n",
      "1/1 [==============================] - 0s 4ms/step - loss: 0.0254 - mse: 0.0254\n",
      "Epoch 117/500\n",
      "1/1 [==============================] - 0s 4ms/step - loss: 0.0249 - mse: 0.0249\n",
      "Epoch 118/500\n",
      "1/1 [==============================] - 0s 6ms/step - loss: 0.0244 - mse: 0.0244\n",
      "Epoch 119/500\n",
      "1/1 [==============================] - 0s 7ms/step - loss: 0.0239 - mse: 0.0239\n",
      "Epoch 120/500\n",
      "1/1 [==============================] - 0s 7ms/step - loss: 0.0235 - mse: 0.0235\n",
      "Epoch 121/500\n",
      "1/1 [==============================] - 0s 4ms/step - loss: 0.0230 - mse: 0.0230\n",
      "Epoch 122/500\n",
      "1/1 [==============================] - 0s 5ms/step - loss: 0.0226 - mse: 0.0226\n",
      "Epoch 123/500\n",
      "1/1 [==============================] - 0s 6ms/step - loss: 0.0222 - mse: 0.0222\n",
      "Epoch 124/500\n",
      "1/1 [==============================] - 0s 6ms/step - loss: 0.0217 - mse: 0.0217\n",
      "Epoch 125/500\n",
      "1/1 [==============================] - 0s 7ms/step - loss: 0.0213 - mse: 0.0213\n",
      "Epoch 126/500\n",
      "1/1 [==============================] - 0s 102ms/step - loss: 0.0209 - mse: 0.0209\n",
      "Epoch 127/500\n",
      "1/1 [==============================] - 0s 4ms/step - loss: 0.0205 - mse: 0.0205\n",
      "Epoch 128/500\n",
      "1/1 [==============================] - 0s 4ms/step - loss: 0.0201 - mse: 0.0201\n",
      "Epoch 129/500\n",
      "1/1 [==============================] - 0s 4ms/step - loss: 0.0197 - mse: 0.0197\n",
      "Epoch 130/500\n",
      "1/1 [==============================] - 0s 5ms/step - loss: 0.0194 - mse: 0.0194\n",
      "Epoch 131/500\n",
      "1/1 [==============================] - 0s 4ms/step - loss: 0.0190 - mse: 0.0190\n",
      "Epoch 132/500\n",
      "1/1 [==============================] - 0s 5ms/step - loss: 0.0186 - mse: 0.0186\n",
      "Epoch 133/500\n",
      "1/1 [==============================] - 0s 12ms/step - loss: 0.0183 - mse: 0.0183\n",
      "Epoch 134/500\n",
      "1/1 [==============================] - 0s 7ms/step - loss: 0.0179 - mse: 0.0179\n",
      "Epoch 135/500\n",
      "1/1 [==============================] - 0s 11ms/step - loss: 0.0176 - mse: 0.0176\n",
      "Epoch 136/500\n",
      "1/1 [==============================] - 0s 6ms/step - loss: 0.0173 - mse: 0.0173\n",
      "Epoch 137/500\n",
      "1/1 [==============================] - 0s 4ms/step - loss: 0.0169 - mse: 0.0169\n",
      "Epoch 138/500\n",
      "1/1 [==============================] - 0s 6ms/step - loss: 0.0166 - mse: 0.0166\n",
      "Epoch 139/500\n",
      "1/1 [==============================] - 0s 5ms/step - loss: 0.0163 - mse: 0.0163\n",
      "Epoch 140/500\n",
      "1/1 [==============================] - 0s 3ms/step - loss: 0.0160 - mse: 0.0160\n",
      "Epoch 141/500\n",
      "1/1 [==============================] - 0s 5ms/step - loss: 0.0157 - mse: 0.0157\n",
      "Epoch 142/500\n",
      "1/1 [==============================] - 0s 4ms/step - loss: 0.0154 - mse: 0.0154\n",
      "Epoch 143/500\n",
      "1/1 [==============================] - 0s 5ms/step - loss: 0.0151 - mse: 0.0151\n",
      "Epoch 144/500\n",
      "1/1 [==============================] - 0s 6ms/step - loss: 0.0148 - mse: 0.0148\n",
      "Epoch 145/500\n",
      "1/1 [==============================] - 0s 3ms/step - loss: 0.0145 - mse: 0.0145\n",
      "Epoch 146/500\n",
      "1/1 [==============================] - 0s 7ms/step - loss: 0.0142 - mse: 0.0142\n",
      "Epoch 147/500\n",
      "1/1 [==============================] - 0s 4ms/step - loss: 0.0140 - mse: 0.0140\n",
      "Epoch 148/500\n",
      "1/1 [==============================] - 0s 4ms/step - loss: 0.0137 - mse: 0.0137\n",
      "Epoch 149/500\n",
      "1/1 [==============================] - 0s 7ms/step - loss: 0.0134 - mse: 0.0134\n",
      "Epoch 150/500\n",
      "1/1 [==============================] - 0s 4ms/step - loss: 0.0132 - mse: 0.0132\n",
      "Epoch 151/500\n",
      "1/1 [==============================] - 0s 4ms/step - loss: 0.0129 - mse: 0.0129\n",
      "Epoch 152/500\n",
      "1/1 [==============================] - 0s 4ms/step - loss: 0.0127 - mse: 0.0127\n",
      "Epoch 153/500\n",
      "1/1 [==============================] - 0s 5ms/step - loss: 0.0124 - mse: 0.0124\n",
      "Epoch 154/500\n",
      "1/1 [==============================] - 0s 4ms/step - loss: 0.0122 - mse: 0.0122\n",
      "Epoch 155/500\n",
      "1/1 [==============================] - 0s 4ms/step - loss: 0.0120 - mse: 0.0120\n",
      "Epoch 156/500\n",
      "1/1 [==============================] - 0s 6ms/step - loss: 0.0117 - mse: 0.0117\n",
      "Epoch 157/500\n",
      "1/1 [==============================] - 0s 4ms/step - loss: 0.0115 - mse: 0.0115\n",
      "Epoch 158/500\n",
      "1/1 [==============================] - 0s 5ms/step - loss: 0.0113 - mse: 0.0113\n",
      "Epoch 159/500\n",
      "1/1 [==============================] - 0s 6ms/step - loss: 0.0111 - mse: 0.0111\n",
      "Epoch 160/500\n",
      "1/1 [==============================] - 0s 5ms/step - loss: 0.0109 - mse: 0.0109\n",
      "Epoch 161/500\n",
      "1/1 [==============================] - 0s 4ms/step - loss: 0.0107 - mse: 0.0107\n",
      "Epoch 162/500\n",
      "1/1 [==============================] - 0s 8ms/step - loss: 0.0105 - mse: 0.0105\n",
      "Epoch 163/500\n",
      "1/1 [==============================] - 0s 4ms/step - loss: 0.0103 - mse: 0.0103\n",
      "Epoch 164/500\n",
      "1/1 [==============================] - 0s 5ms/step - loss: 0.0101 - mse: 0.0101\n",
      "Epoch 165/500\n",
      "1/1 [==============================] - 0s 5ms/step - loss: 0.0099 - mse: 0.0099\n",
      "Epoch 166/500\n",
      "1/1 [==============================] - 0s 4ms/step - loss: 0.0097 - mse: 0.0097\n",
      "Epoch 167/500\n",
      "1/1 [==============================] - 0s 4ms/step - loss: 0.0095 - mse: 0.0095\n",
      "Epoch 168/500\n",
      "1/1 [==============================] - 0s 4ms/step - loss: 0.0093 - mse: 0.0093\n",
      "Epoch 169/500\n",
      "1/1 [==============================] - 0s 6ms/step - loss: 0.0091 - mse: 0.0091\n",
      "Epoch 170/500\n",
      "1/1 [==============================] - 0s 4ms/step - loss: 0.0090 - mse: 0.0090\n",
      "Epoch 171/500\n",
      "1/1 [==============================] - 0s 4ms/step - loss: 0.0088 - mse: 0.0088\n",
      "Epoch 172/500\n",
      "1/1 [==============================] - 0s 5ms/step - loss: 0.0086 - mse: 0.0086\n",
      "Epoch 173/500\n",
      "1/1 [==============================] - 0s 15ms/step - loss: 0.0085 - mse: 0.0085\n",
      "Epoch 174/500\n",
      "1/1 [==============================] - 0s 4ms/step - loss: 0.0083 - mse: 0.0083\n",
      "Epoch 175/500\n",
      "1/1 [==============================] - 0s 4ms/step - loss: 0.0081 - mse: 0.0081\n",
      "Epoch 176/500\n",
      "1/1 [==============================] - 0s 4ms/step - loss: 0.0080 - mse: 0.0080\n",
      "Epoch 177/500\n",
      "1/1 [==============================] - 0s 6ms/step - loss: 0.0078 - mse: 0.0078\n",
      "Epoch 178/500\n",
      "1/1 [==============================] - 0s 6ms/step - loss: 0.0077 - mse: 0.0077\n",
      "Epoch 179/500\n",
      "1/1 [==============================] - 0s 5ms/step - loss: 0.0075 - mse: 0.0075\n",
      "Epoch 180/500\n",
      "1/1 [==============================] - 0s 4ms/step - loss: 0.0074 - mse: 0.0074\n",
      "Epoch 181/500\n",
      "1/1 [==============================] - 0s 6ms/step - loss: 0.0073 - mse: 0.0073\n",
      "Epoch 182/500\n",
      "1/1 [==============================] - 0s 5ms/step - loss: 0.0071 - mse: 0.0071\n",
      "Epoch 183/500\n",
      "1/1 [==============================] - 0s 8ms/step - loss: 0.0070 - mse: 0.0070\n",
      "Epoch 184/500\n",
      "1/1 [==============================] - 0s 4ms/step - loss: 0.0068 - mse: 0.0068\n",
      "Epoch 185/500\n",
      "1/1 [==============================] - 0s 4ms/step - loss: 0.0067 - mse: 0.0067\n",
      "Epoch 186/500\n",
      "1/1 [==============================] - 0s 4ms/step - loss: 0.0066 - mse: 0.0066\n",
      "Epoch 187/500\n",
      "1/1 [==============================] - 0s 8ms/step - loss: 0.0065 - mse: 0.0065\n",
      "Epoch 188/500\n",
      "1/1 [==============================] - 0s 125ms/step - loss: 0.0063 - mse: 0.0063\n",
      "Epoch 189/500\n",
      "1/1 [==============================] - 0s 10ms/step - loss: 0.0062 - mse: 0.0062\n",
      "Epoch 190/500\n",
      "1/1 [==============================] - 0s 13ms/step - loss: 0.0061 - mse: 0.0061\n",
      "Epoch 191/500\n",
      "1/1 [==============================] - 0s 18ms/step - loss: 0.0060 - mse: 0.0060\n",
      "Epoch 192/500\n",
      "1/1 [==============================] - 0s 7ms/step - loss: 0.0059 - mse: 0.0059\n",
      "Epoch 193/500\n",
      "1/1 [==============================] - 0s 11ms/step - loss: 0.0058 - mse: 0.0058\n",
      "Epoch 194/500\n",
      "1/1 [==============================] - 0s 9ms/step - loss: 0.0056 - mse: 0.0056\n",
      "Epoch 195/500\n",
      "1/1 [==============================] - 0s 6ms/step - loss: 0.0055 - mse: 0.0055\n",
      "Epoch 196/500\n",
      "1/1 [==============================] - 0s 14ms/step - loss: 0.0054 - mse: 0.0054\n",
      "Epoch 197/500\n",
      "1/1 [==============================] - 0s 6ms/step - loss: 0.0053 - mse: 0.0053\n",
      "Epoch 198/500\n",
      "1/1 [==============================] - 0s 6ms/step - loss: 0.0052 - mse: 0.0052\n",
      "Epoch 199/500\n",
      "1/1 [==============================] - 0s 17ms/step - loss: 0.0051 - mse: 0.0051\n",
      "Epoch 200/500\n",
      "1/1 [==============================] - 0s 14ms/step - loss: 0.0050 - mse: 0.0050\n",
      "Epoch 201/500\n",
      "1/1 [==============================] - 0s 30ms/step - loss: 0.0049 - mse: 0.0049\n",
      "Epoch 202/500\n",
      "1/1 [==============================] - 0s 5ms/step - loss: 0.0048 - mse: 0.0048\n",
      "Epoch 203/500\n",
      "1/1 [==============================] - 0s 5ms/step - loss: 0.0047 - mse: 0.0047\n",
      "Epoch 204/500\n",
      "1/1 [==============================] - 0s 5ms/step - loss: 0.0047 - mse: 0.0047\n",
      "Epoch 205/500\n",
      "1/1 [==============================] - 0s 5ms/step - loss: 0.0046 - mse: 0.0046\n",
      "Epoch 206/500\n",
      "1/1 [==============================] - 0s 10ms/step - loss: 0.0045 - mse: 0.0045\n",
      "Epoch 207/500\n",
      "1/1 [==============================] - 0s 5ms/step - loss: 0.0044 - mse: 0.0044\n",
      "Epoch 208/500\n",
      "1/1 [==============================] - 0s 4ms/step - loss: 0.0043 - mse: 0.0043\n",
      "Epoch 209/500\n",
      "1/1 [==============================] - 0s 6ms/step - loss: 0.0042 - mse: 0.0042\n",
      "Epoch 210/500\n",
      "1/1 [==============================] - 0s 6ms/step - loss: 0.0042 - mse: 0.0042\n",
      "Epoch 211/500\n",
      "1/1 [==============================] - 0s 4ms/step - loss: 0.0041 - mse: 0.0041\n",
      "Epoch 212/500\n",
      "1/1 [==============================] - 0s 5ms/step - loss: 0.0040 - mse: 0.0040\n",
      "Epoch 213/500\n",
      "1/1 [==============================] - 0s 4ms/step - loss: 0.0039 - mse: 0.0039\n",
      "Epoch 214/500\n",
      "1/1 [==============================] - 0s 12ms/step - loss: 0.0038 - mse: 0.0038\n",
      "Epoch 215/500\n",
      "1/1 [==============================] - 0s 11ms/step - loss: 0.0038 - mse: 0.0038\n",
      "Epoch 216/500\n",
      "1/1 [==============================] - 0s 25ms/step - loss: 0.0037 - mse: 0.0037\n",
      "Epoch 217/500\n",
      "1/1 [==============================] - 0s 4ms/step - loss: 0.0036 - mse: 0.0036\n",
      "Epoch 218/500\n",
      "1/1 [==============================] - 0s 10ms/step - loss: 0.0036 - mse: 0.0036\n",
      "Epoch 219/500\n",
      "1/1 [==============================] - 0s 12ms/step - loss: 0.0035 - mse: 0.0035\n",
      "Epoch 220/500\n",
      "1/1 [==============================] - 0s 7ms/step - loss: 0.0034 - mse: 0.0034\n",
      "Epoch 221/500\n",
      "1/1 [==============================] - 0s 6ms/step - loss: 0.0034 - mse: 0.0034\n",
      "Epoch 222/500\n",
      "1/1 [==============================] - 0s 5ms/step - loss: 0.0033 - mse: 0.0033\n",
      "Epoch 223/500\n",
      "1/1 [==============================] - 0s 5ms/step - loss: 0.0032 - mse: 0.0032\n",
      "Epoch 224/500\n",
      "1/1 [==============================] - 0s 6ms/step - loss: 0.0032 - mse: 0.0032\n",
      "Epoch 225/500\n",
      "1/1 [==============================] - 0s 5ms/step - loss: 0.0031 - mse: 0.0031\n",
      "Epoch 226/500\n",
      "1/1 [==============================] - 0s 18ms/step - loss: 0.0030 - mse: 0.0030\n",
      "Epoch 227/500\n",
      "1/1 [==============================] - 0s 17ms/step - loss: 0.0030 - mse: 0.0030\n",
      "Epoch 228/500\n",
      "1/1 [==============================] - 0s 16ms/step - loss: 0.0029 - mse: 0.0029\n",
      "Epoch 229/500\n",
      "1/1 [==============================] - 0s 20ms/step - loss: 0.0029 - mse: 0.0029\n",
      "Epoch 230/500\n",
      "1/1 [==============================] - 0s 17ms/step - loss: 0.0028 - mse: 0.0028\n",
      "Epoch 231/500\n",
      "1/1 [==============================] - 0s 7ms/step - loss: 0.0028 - mse: 0.0028\n",
      "Epoch 232/500\n",
      "1/1 [==============================] - 0s 6ms/step - loss: 0.0027 - mse: 0.0027\n",
      "Epoch 233/500\n",
      "1/1 [==============================] - 0s 6ms/step - loss: 0.0027 - mse: 0.0027\n",
      "Epoch 234/500\n",
      "1/1 [==============================] - 0s 11ms/step - loss: 0.0026 - mse: 0.0026\n",
      "Epoch 235/500\n",
      "1/1 [==============================] - 0s 4ms/step - loss: 0.0026 - mse: 0.0026\n",
      "Epoch 236/500\n",
      "1/1 [==============================] - 0s 9ms/step - loss: 0.0025 - mse: 0.0025\n",
      "Epoch 237/500\n",
      "1/1 [==============================] - 0s 13ms/step - loss: 0.0025 - mse: 0.0025\n",
      "Epoch 238/500\n",
      "1/1 [==============================] - 0s 7ms/step - loss: 0.0024 - mse: 0.0024\n",
      "Epoch 239/500\n",
      "1/1 [==============================] - 0s 9ms/step - loss: 0.0024 - mse: 0.0024\n",
      "Epoch 240/500\n",
      "1/1 [==============================] - 0s 13ms/step - loss: 0.0023 - mse: 0.0023\n",
      "Epoch 241/500\n",
      "1/1 [==============================] - 0s 9ms/step - loss: 0.0023 - mse: 0.0023\n",
      "Epoch 242/500\n",
      "1/1 [==============================] - 0s 6ms/step - loss: 0.0022 - mse: 0.0022\n",
      "Epoch 243/500\n",
      "1/1 [==============================] - 0s 22ms/step - loss: 0.0022 - mse: 0.0022\n",
      "Epoch 244/500\n",
      "1/1 [==============================] - 0s 7ms/step - loss: 0.0022 - mse: 0.0022\n",
      "Epoch 245/500\n",
      "1/1 [==============================] - 0s 8ms/step - loss: 0.0021 - mse: 0.0021\n",
      "Epoch 246/500\n",
      "1/1 [==============================] - 0s 10ms/step - loss: 0.0021 - mse: 0.0021\n",
      "Epoch 247/500\n",
      "1/1 [==============================] - 0s 4ms/step - loss: 0.0020 - mse: 0.0020\n",
      "Epoch 248/500\n",
      "1/1 [==============================] - 0s 5ms/step - loss: 0.0020 - mse: 0.0020\n",
      "Epoch 249/500\n",
      "1/1 [==============================] - 0s 92ms/step - loss: 0.0020 - mse: 0.0020\n",
      "Epoch 250/500\n",
      "1/1 [==============================] - 0s 11ms/step - loss: 0.0019 - mse: 0.0019\n",
      "Epoch 251/500\n",
      "1/1 [==============================] - 0s 4ms/step - loss: 0.0019 - mse: 0.0019\n",
      "Epoch 252/500\n",
      "1/1 [==============================] - 0s 7ms/step - loss: 0.0018 - mse: 0.0018\n",
      "Epoch 253/500\n",
      "1/1 [==============================] - 0s 17ms/step - loss: 0.0018 - mse: 0.0018\n",
      "Epoch 254/500\n",
      "1/1 [==============================] - 0s 9ms/step - loss: 0.0018 - mse: 0.0018\n",
      "Epoch 255/500\n",
      "1/1 [==============================] - 0s 8ms/step - loss: 0.0017 - mse: 0.0017\n",
      "Epoch 256/500\n",
      "1/1 [==============================] - 0s 4ms/step - loss: 0.0017 - mse: 0.0017\n",
      "Epoch 257/500\n",
      "1/1 [==============================] - 0s 4ms/step - loss: 0.0017 - mse: 0.0017\n",
      "Epoch 258/500\n",
      "1/1 [==============================] - 0s 4ms/step - loss: 0.0016 - mse: 0.0016\n",
      "Epoch 259/500\n",
      "1/1 [==============================] - 0s 8ms/step - loss: 0.0016 - mse: 0.0016\n",
      "Epoch 260/500\n",
      "1/1 [==============================] - 0s 4ms/step - loss: 0.0016 - mse: 0.0016\n",
      "Epoch 261/500\n",
      "1/1 [==============================] - 0s 11ms/step - loss: 0.0016 - mse: 0.0016\n",
      "Epoch 262/500\n",
      "1/1 [==============================] - 0s 6ms/step - loss: 0.0015 - mse: 0.0015\n",
      "Epoch 263/500\n",
      "1/1 [==============================] - 0s 5ms/step - loss: 0.0015 - mse: 0.0015\n",
      "Epoch 264/500\n",
      "1/1 [==============================] - 0s 5ms/step - loss: 0.0015 - mse: 0.0015\n",
      "Epoch 265/500\n",
      "1/1 [==============================] - 0s 8ms/step - loss: 0.0014 - mse: 0.0014\n",
      "Epoch 266/500\n",
      "1/1 [==============================] - 0s 5ms/step - loss: 0.0014 - mse: 0.0014\n",
      "Epoch 267/500\n",
      "1/1 [==============================] - 0s 10ms/step - loss: 0.0014 - mse: 0.0014\n",
      "Epoch 268/500\n",
      "1/1 [==============================] - 0s 5ms/step - loss: 0.0014 - mse: 0.0014\n",
      "Epoch 269/500\n",
      "1/1 [==============================] - 0s 5ms/step - loss: 0.0013 - mse: 0.0013\n",
      "Epoch 270/500\n",
      "1/1 [==============================] - 0s 7ms/step - loss: 0.0013 - mse: 0.0013\n",
      "Epoch 271/500\n",
      "1/1 [==============================] - 0s 4ms/step - loss: 0.0013 - mse: 0.0013\n",
      "Epoch 272/500\n",
      "1/1 [==============================] - 0s 7ms/step - loss: 0.0013 - mse: 0.0013\n",
      "Epoch 273/500\n",
      "1/1 [==============================] - 0s 4ms/step - loss: 0.0012 - mse: 0.0012\n",
      "Epoch 274/500\n",
      "1/1 [==============================] - 0s 7ms/step - loss: 0.0012 - mse: 0.0012\n",
      "Epoch 275/500\n",
      "1/1 [==============================] - 0s 4ms/step - loss: 0.0012 - mse: 0.0012\n",
      "Epoch 276/500\n",
      "1/1 [==============================] - 0s 7ms/step - loss: 0.0012 - mse: 0.0012\n",
      "Epoch 277/500\n",
      "1/1 [==============================] - 0s 4ms/step - loss: 0.0011 - mse: 0.0011\n",
      "Epoch 278/500\n",
      "1/1 [==============================] - 0s 4ms/step - loss: 0.0011 - mse: 0.0011\n",
      "Epoch 279/500\n",
      "1/1 [==============================] - 0s 7ms/step - loss: 0.0011 - mse: 0.0011\n",
      "Epoch 280/500\n",
      "1/1 [==============================] - 0s 4ms/step - loss: 0.0011 - mse: 0.0011\n",
      "Epoch 281/500\n",
      "1/1 [==============================] - 0s 7ms/step - loss: 0.0011 - mse: 0.0011\n",
      "Epoch 282/500\n",
      "1/1 [==============================] - 0s 4ms/step - loss: 0.0010 - mse: 0.0010\n",
      "Epoch 283/500\n",
      "1/1 [==============================] - 0s 7ms/step - loss: 0.0010 - mse: 0.0010\n",
      "Epoch 284/500\n",
      "1/1 [==============================] - 0s 4ms/step - loss: 9.9792e-04 - mse: 9.9792e-04\n",
      "Epoch 285/500\n",
      "1/1 [==============================] - 0s 7ms/step - loss: 9.7889e-04 - mse: 9.7889e-04\n",
      "Epoch 286/500\n",
      "1/1 [==============================] - 0s 6ms/step - loss: 9.6022e-04 - mse: 9.6022e-04\n",
      "Epoch 287/500\n",
      "1/1 [==============================] - 0s 8ms/step - loss: 9.4190e-04 - mse: 9.4190e-04\n",
      "Epoch 288/500\n",
      "1/1 [==============================] - 0s 4ms/step - loss: 9.2393e-04 - mse: 9.2393e-04\n",
      "Epoch 289/500\n",
      "1/1 [==============================] - 0s 32ms/step - loss: 9.0631e-04 - mse: 9.0631e-04\n",
      "Epoch 290/500\n",
      "1/1 [==============================] - 0s 5ms/step - loss: 8.8902e-04 - mse: 8.8902e-04\n",
      "Epoch 291/500\n",
      "1/1 [==============================] - 0s 7ms/step - loss: 8.7206e-04 - mse: 8.7206e-04\n",
      "Epoch 292/500\n",
      "1/1 [==============================] - 0s 4ms/step - loss: 8.5543e-04 - mse: 8.5543e-04\n",
      "Epoch 293/500\n",
      "1/1 [==============================] - 0s 8ms/step - loss: 8.3911e-04 - mse: 8.3911e-04\n",
      "Epoch 294/500\n",
      "1/1 [==============================] - 0s 4ms/step - loss: 8.2311e-04 - mse: 8.2311e-04\n",
      "Epoch 295/500\n",
      "1/1 [==============================] - 0s 4ms/step - loss: 8.0741e-04 - mse: 8.0741e-04\n",
      "Epoch 296/500\n",
      "1/1 [==============================] - 0s 8ms/step - loss: 7.9200e-04 - mse: 7.9200e-04\n",
      "Epoch 297/500\n",
      "1/1 [==============================] - 0s 4ms/step - loss: 7.7689e-04 - mse: 7.7689e-04\n",
      "Epoch 298/500\n",
      "1/1 [==============================] - 0s 5ms/step - loss: 7.6208e-04 - mse: 7.6208e-04\n",
      "Epoch 299/500\n",
      "1/1 [==============================] - 0s 11ms/step - loss: 7.4754e-04 - mse: 7.4754e-04\n",
      "Epoch 300/500\n",
      "1/1 [==============================] - 0s 4ms/step - loss: 7.3328e-04 - mse: 7.3328e-04\n",
      "Epoch 301/500\n",
      "1/1 [==============================] - 0s 9ms/step - loss: 7.1929e-04 - mse: 7.1929e-04\n",
      "Epoch 302/500\n",
      "1/1 [==============================] - 0s 5ms/step - loss: 7.0557e-04 - mse: 7.0557e-04\n",
      "Epoch 303/500\n",
      "1/1 [==============================] - 0s 5ms/step - loss: 6.9212e-04 - mse: 6.9212e-04\n",
      "Epoch 304/500\n",
      "1/1 [==============================] - 0s 27ms/step - loss: 6.7891e-04 - mse: 6.7891e-04\n",
      "Epoch 305/500\n",
      "1/1 [==============================] - 0s 22ms/step - loss: 6.6596e-04 - mse: 6.6596e-04\n",
      "Epoch 306/500\n",
      "1/1 [==============================] - 0s 26ms/step - loss: 6.5326e-04 - mse: 6.5326e-04\n",
      "Epoch 307/500\n",
      "1/1 [==============================] - 0s 4ms/step - loss: 6.4080e-04 - mse: 6.4080e-04\n",
      "Epoch 308/500\n",
      "1/1 [==============================] - 0s 5ms/step - loss: 6.2857e-04 - mse: 6.2857e-04\n",
      "Epoch 309/500\n",
      "1/1 [==============================] - 0s 5ms/step - loss: 6.1658e-04 - mse: 6.1658e-04\n",
      "Epoch 310/500\n",
      "1/1 [==============================] - 0s 4ms/step - loss: 6.0483e-04 - mse: 6.0483e-04\n",
      "Epoch 311/500\n",
      "1/1 [==============================] - 0s 7ms/step - loss: 5.9329e-04 - mse: 5.9329e-04\n",
      "Epoch 312/500\n",
      "1/1 [==============================] - 0s 13ms/step - loss: 5.8196e-04 - mse: 5.8196e-04\n",
      "Epoch 313/500\n",
      "1/1 [==============================] - 0s 6ms/step - loss: 5.7087e-04 - mse: 5.7087e-04\n",
      "Epoch 314/500\n",
      "1/1 [==============================] - 0s 29ms/step - loss: 5.5998e-04 - mse: 5.5998e-04\n",
      "Epoch 315/500\n",
      "1/1 [==============================] - 0s 12ms/step - loss: 5.4930e-04 - mse: 5.4930e-04\n",
      "Epoch 316/500\n",
      "1/1 [==============================] - 0s 4ms/step - loss: 5.3883e-04 - mse: 5.3883e-04\n",
      "Epoch 317/500\n",
      "1/1 [==============================] - 0s 7ms/step - loss: 5.2854e-04 - mse: 5.2854e-04\n",
      "Epoch 318/500\n",
      "1/1 [==============================] - 0s 11ms/step - loss: 5.1846e-04 - mse: 5.1846e-04\n",
      "Epoch 319/500\n",
      "1/1 [==============================] - 0s 5ms/step - loss: 5.0857e-04 - mse: 5.0857e-04\n",
      "Epoch 320/500\n",
      "1/1 [==============================] - 0s 5ms/step - loss: 4.9887e-04 - mse: 4.9887e-04\n",
      "Epoch 321/500\n",
      "1/1 [==============================] - 0s 6ms/step - loss: 4.8935e-04 - mse: 4.8935e-04\n",
      "Epoch 322/500\n",
      "1/1 [==============================] - 0s 7ms/step - loss: 4.8002e-04 - mse: 4.8002e-04\n",
      "Epoch 323/500\n",
      "1/1 [==============================] - 0s 6ms/step - loss: 4.7086e-04 - mse: 4.7086e-04\n",
      "Epoch 324/500\n",
      "1/1 [==============================] - 0s 5ms/step - loss: 4.6188e-04 - mse: 4.6188e-04\n",
      "Epoch 325/500\n",
      "1/1 [==============================] - 0s 8ms/step - loss: 4.5307e-04 - mse: 4.5307e-04\n",
      "Epoch 326/500\n",
      "1/1 [==============================] - 0s 12ms/step - loss: 4.4443e-04 - mse: 4.4443e-04\n",
      "Epoch 327/500\n",
      "1/1 [==============================] - 0s 16ms/step - loss: 4.3595e-04 - mse: 4.3595e-04\n",
      "Epoch 328/500\n",
      "1/1 [==============================] - 0s 5ms/step - loss: 4.2764e-04 - mse: 4.2764e-04\n",
      "Epoch 329/500\n",
      "1/1 [==============================] - 0s 8ms/step - loss: 4.1948e-04 - mse: 4.1948e-04\n",
      "Epoch 330/500\n",
      "1/1 [==============================] - 0s 7ms/step - loss: 4.1148e-04 - mse: 4.1148e-04\n",
      "Epoch 331/500\n",
      "1/1 [==============================] - 0s 7ms/step - loss: 4.0362e-04 - mse: 4.0362e-04\n",
      "Epoch 332/500\n",
      "1/1 [==============================] - 0s 7ms/step - loss: 3.9593e-04 - mse: 3.9593e-04\n",
      "Epoch 333/500\n",
      "1/1 [==============================] - 0s 38ms/step - loss: 3.8838e-04 - mse: 3.8838e-04\n",
      "Epoch 334/500\n",
      "1/1 [==============================] - 0s 13ms/step - loss: 3.8097e-04 - mse: 3.8097e-04\n",
      "Epoch 335/500\n",
      "1/1 [==============================] - 0s 9ms/step - loss: 3.7370e-04 - mse: 3.7370e-04\n",
      "Epoch 336/500\n",
      "1/1 [==============================] - 0s 5ms/step - loss: 3.6657e-04 - mse: 3.6657e-04\n",
      "Epoch 337/500\n",
      "1/1 [==============================] - 0s 5ms/step - loss: 3.5958e-04 - mse: 3.5958e-04\n",
      "Epoch 338/500\n",
      "1/1 [==============================] - 0s 4ms/step - loss: 3.5272e-04 - mse: 3.5272e-04\n",
      "Epoch 339/500\n",
      "1/1 [==============================] - 0s 8ms/step - loss: 3.4599e-04 - mse: 3.4599e-04\n",
      "Epoch 340/500\n",
      "1/1 [==============================] - 0s 5ms/step - loss: 3.3939e-04 - mse: 3.3939e-04\n",
      "Epoch 341/500\n",
      "1/1 [==============================] - 0s 4ms/step - loss: 3.3292e-04 - mse: 3.3292e-04\n",
      "Epoch 342/500\n",
      "1/1 [==============================] - 0s 8ms/step - loss: 3.2657e-04 - mse: 3.2657e-04\n",
      "Epoch 343/500\n",
      "1/1 [==============================] - 0s 4ms/step - loss: 3.2035e-04 - mse: 3.2035e-04\n",
      "Epoch 344/500\n",
      "1/1 [==============================] - 0s 13ms/step - loss: 3.1423e-04 - mse: 3.1423e-04\n",
      "Epoch 345/500\n",
      "1/1 [==============================] - 0s 23ms/step - loss: 3.0824e-04 - mse: 3.0824e-04\n",
      "Epoch 346/500\n",
      "1/1 [==============================] - 0s 5ms/step - loss: 3.0236e-04 - mse: 3.0236e-04\n",
      "Epoch 347/500\n",
      "1/1 [==============================] - 0s 5ms/step - loss: 2.9659e-04 - mse: 2.9659e-04\n",
      "Epoch 348/500\n",
      "1/1 [==============================] - 0s 6ms/step - loss: 2.9093e-04 - mse: 2.9093e-04\n",
      "Epoch 349/500\n",
      "1/1 [==============================] - 0s 18ms/step - loss: 2.8538e-04 - mse: 2.8538e-04\n",
      "Epoch 350/500\n",
      "1/1 [==============================] - 0s 4ms/step - loss: 2.7994e-04 - mse: 2.7994e-04\n",
      "Epoch 351/500\n",
      "1/1 [==============================] - 0s 5ms/step - loss: 2.7460e-04 - mse: 2.7460e-04\n",
      "Epoch 352/500\n",
      "1/1 [==============================] - 0s 7ms/step - loss: 2.6936e-04 - mse: 2.6936e-04\n",
      "Epoch 353/500\n",
      "1/1 [==============================] - 0s 28ms/step - loss: 2.6423e-04 - mse: 2.6423e-04\n",
      "Epoch 354/500\n",
      "1/1 [==============================] - 0s 9ms/step - loss: 2.5919e-04 - mse: 2.5919e-04\n",
      "Epoch 355/500\n",
      "1/1 [==============================] - 0s 8ms/step - loss: 2.5425e-04 - mse: 2.5425e-04\n",
      "Epoch 356/500\n",
      "1/1 [==============================] - 0s 6ms/step - loss: 2.4940e-04 - mse: 2.4940e-04\n",
      "Epoch 357/500\n",
      "1/1 [==============================] - 0s 6ms/step - loss: 2.4463e-04 - mse: 2.4463e-04\n",
      "Epoch 358/500\n",
      "1/1 [==============================] - 0s 11ms/step - loss: 2.3997e-04 - mse: 2.3997e-04\n",
      "Epoch 359/500\n",
      "1/1 [==============================] - 0s 11ms/step - loss: 2.3539e-04 - mse: 2.3539e-04\n",
      "Epoch 360/500\n",
      "1/1 [==============================] - 0s 9ms/step - loss: 2.3090e-04 - mse: 2.3090e-04\n",
      "Epoch 361/500\n",
      "1/1 [==============================] - 0s 6ms/step - loss: 2.2650e-04 - mse: 2.2650e-04\n",
      "Epoch 362/500\n",
      "1/1 [==============================] - 0s 9ms/step - loss: 2.2218e-04 - mse: 2.2218e-04\n",
      "Epoch 363/500\n",
      "1/1 [==============================] - 0s 8ms/step - loss: 2.1794e-04 - mse: 2.1794e-04\n",
      "Epoch 364/500\n",
      "1/1 [==============================] - 0s 5ms/step - loss: 2.1378e-04 - mse: 2.1378e-04\n",
      "Epoch 365/500\n",
      "1/1 [==============================] - 0s 6ms/step - loss: 2.0971e-04 - mse: 2.0971e-04\n",
      "Epoch 366/500\n",
      "1/1 [==============================] - 0s 7ms/step - loss: 2.0570e-04 - mse: 2.0570e-04\n",
      "Epoch 367/500\n",
      "1/1 [==============================] - 0s 7ms/step - loss: 2.0179e-04 - mse: 2.0179e-04\n",
      "Epoch 368/500\n",
      "1/1 [==============================] - 0s 6ms/step - loss: 1.9794e-04 - mse: 1.9794e-04\n",
      "Epoch 369/500\n",
      "1/1 [==============================] - 0s 11ms/step - loss: 1.9416e-04 - mse: 1.9416e-04\n",
      "Epoch 370/500\n",
      "1/1 [==============================] - 0s 4ms/step - loss: 1.9046e-04 - mse: 1.9046e-04\n",
      "Epoch 371/500\n",
      "1/1 [==============================] - 0s 6ms/step - loss: 1.8682e-04 - mse: 1.8682e-04\n",
      "Epoch 372/500\n",
      "1/1 [==============================] - 0s 17ms/step - loss: 1.8326e-04 - mse: 1.8326e-04\n",
      "Epoch 373/500\n",
      "1/1 [==============================] - 0s 5ms/step - loss: 1.7976e-04 - mse: 1.7976e-04\n",
      "Epoch 374/500\n",
      "1/1 [==============================] - 0s 4ms/step - loss: 1.7634e-04 - mse: 1.7634e-04\n",
      "Epoch 375/500\n",
      "1/1 [==============================] - 0s 6ms/step - loss: 1.7297e-04 - mse: 1.7297e-04\n",
      "Epoch 376/500\n",
      "1/1 [==============================] - 0s 6ms/step - loss: 1.6967e-04 - mse: 1.6967e-04\n",
      "Epoch 377/500\n",
      "1/1 [==============================] - 0s 4ms/step - loss: 1.6643e-04 - mse: 1.6643e-04\n",
      "Epoch 378/500\n",
      "1/1 [==============================] - 0s 11ms/step - loss: 1.6326e-04 - mse: 1.6326e-04\n",
      "Epoch 379/500\n",
      "1/1 [==============================] - 0s 9ms/step - loss: 1.6015e-04 - mse: 1.6015e-04\n",
      "Epoch 380/500\n",
      "1/1 [==============================] - 0s 5ms/step - loss: 1.5709e-04 - mse: 1.5709e-04\n",
      "Epoch 381/500\n",
      "1/1 [==============================] - 0s 9ms/step - loss: 1.5409e-04 - mse: 1.5409e-04\n",
      "Epoch 382/500\n",
      "1/1 [==============================] - 0s 7ms/step - loss: 1.5116e-04 - mse: 1.5116e-04\n",
      "Epoch 383/500\n",
      "1/1 [==============================] - 0s 5ms/step - loss: 1.4827e-04 - mse: 1.4827e-04\n",
      "Epoch 384/500\n",
      "1/1 [==============================] - 0s 5ms/step - loss: 1.4545e-04 - mse: 1.4545e-04\n",
      "Epoch 385/500\n",
      "1/1 [==============================] - 0s 5ms/step - loss: 1.4267e-04 - mse: 1.4267e-04\n",
      "Epoch 386/500\n",
      "1/1 [==============================] - 0s 13ms/step - loss: 1.3995e-04 - mse: 1.3995e-04\n",
      "Epoch 387/500\n",
      "1/1 [==============================] - 0s 6ms/step - loss: 1.3728e-04 - mse: 1.3728e-04\n",
      "Epoch 388/500\n",
      "1/1 [==============================] - 0s 6ms/step - loss: 1.3466e-04 - mse: 1.3466e-04\n",
      "Epoch 389/500\n",
      "1/1 [==============================] - 0s 15ms/step - loss: 1.3209e-04 - mse: 1.3209e-04\n",
      "Epoch 390/500\n",
      "1/1 [==============================] - 0s 5ms/step - loss: 1.2957e-04 - mse: 1.2957e-04\n",
      "Epoch 391/500\n",
      "1/1 [==============================] - 0s 5ms/step - loss: 1.2710e-04 - mse: 1.2710e-04\n",
      "Epoch 392/500\n",
      "1/1 [==============================] - 0s 14ms/step - loss: 1.2468e-04 - mse: 1.2468e-04\n",
      "Epoch 393/500\n",
      "1/1 [==============================] - 0s 7ms/step - loss: 1.2230e-04 - mse: 1.2230e-04\n",
      "Epoch 394/500\n",
      "1/1 [==============================] - 0s 6ms/step - loss: 1.1997e-04 - mse: 1.1997e-04\n",
      "Epoch 395/500\n",
      "1/1 [==============================] - 0s 16ms/step - loss: 1.1768e-04 - mse: 1.1768e-04\n",
      "Epoch 396/500\n",
      "1/1 [==============================] - 0s 5ms/step - loss: 1.1543e-04 - mse: 1.1543e-04\n",
      "Epoch 397/500\n",
      "1/1 [==============================] - 0s 11ms/step - loss: 1.1323e-04 - mse: 1.1323e-04\n",
      "Epoch 398/500\n",
      "1/1 [==============================] - 0s 5ms/step - loss: 1.1107e-04 - mse: 1.1107e-04\n",
      "Epoch 399/500\n",
      "1/1 [==============================] - 0s 6ms/step - loss: 1.0895e-04 - mse: 1.0895e-04\n",
      "Epoch 400/500\n",
      "1/1 [==============================] - 0s 9ms/step - loss: 1.0688e-04 - mse: 1.0688e-04\n",
      "Epoch 401/500\n",
      "1/1 [==============================] - 0s 5ms/step - loss: 1.0484e-04 - mse: 1.0484e-04\n",
      "Epoch 402/500\n",
      "1/1 [==============================] - 0s 9ms/step - loss: 1.0284e-04 - mse: 1.0284e-04\n",
      "Epoch 403/500\n",
      "1/1 [==============================] - 0s 10ms/step - loss: 1.0087e-04 - mse: 1.0087e-04\n",
      "Epoch 404/500\n",
      "1/1 [==============================] - 0s 6ms/step - loss: 9.8949e-05 - mse: 9.8949e-05\n",
      "Epoch 405/500\n",
      "1/1 [==============================] - 0s 5ms/step - loss: 9.7063e-05 - mse: 9.7063e-05\n",
      "Epoch 406/500\n",
      "1/1 [==============================] - 0s 5ms/step - loss: 9.5212e-05 - mse: 9.5212e-05\n",
      "Epoch 407/500\n",
      "1/1 [==============================] - 0s 6ms/step - loss: 9.3396e-05 - mse: 9.3396e-05\n",
      "Epoch 408/500\n",
      "1/1 [==============================] - 0s 6ms/step - loss: 9.1615e-05 - mse: 9.1615e-05\n",
      "Epoch 409/500\n",
      "1/1 [==============================] - 0s 5ms/step - loss: 8.9867e-05 - mse: 8.9867e-05\n",
      "Epoch 410/500\n",
      "1/1 [==============================] - 0s 5ms/step - loss: 8.8153e-05 - mse: 8.8153e-05\n",
      "Epoch 411/500\n",
      "1/1 [==============================] - 0s 7ms/step - loss: 8.6472e-05 - mse: 8.6472e-05\n",
      "Epoch 412/500\n",
      "1/1 [==============================] - 0s 8ms/step - loss: 8.4823e-05 - mse: 8.4823e-05\n",
      "Epoch 413/500\n",
      "1/1 [==============================] - 0s 19ms/step - loss: 8.3205e-05 - mse: 8.3205e-05\n",
      "Epoch 414/500\n",
      "1/1 [==============================] - 0s 19ms/step - loss: 8.1616e-05 - mse: 8.1616e-05\n",
      "Epoch 415/500\n",
      "1/1 [==============================] - 0s 8ms/step - loss: 8.0060e-05 - mse: 8.0060e-05\n",
      "Epoch 416/500\n",
      "1/1 [==============================] - 0s 6ms/step - loss: 7.8532e-05 - mse: 7.8532e-05\n",
      "Epoch 417/500\n",
      "1/1 [==============================] - 0s 8ms/step - loss: 7.7035e-05 - mse: 7.7035e-05\n",
      "Epoch 418/500\n",
      "1/1 [==============================] - 0s 7ms/step - loss: 7.5563e-05 - mse: 7.5563e-05\n",
      "Epoch 419/500\n",
      "1/1 [==============================] - 0s 13ms/step - loss: 7.4124e-05 - mse: 7.4124e-05\n",
      "Epoch 420/500\n",
      "1/1 [==============================] - 0s 19ms/step - loss: 7.2711e-05 - mse: 7.2711e-05\n",
      "Epoch 421/500\n",
      "1/1 [==============================] - 0s 5ms/step - loss: 7.1321e-05 - mse: 7.1321e-05\n",
      "Epoch 422/500\n",
      "1/1 [==============================] - 0s 7ms/step - loss: 6.9961e-05 - mse: 6.9961e-05\n",
      "Epoch 423/500\n",
      "1/1 [==============================] - 0s 4ms/step - loss: 6.8630e-05 - mse: 6.8630e-05\n",
      "Epoch 424/500\n",
      "1/1 [==============================] - 0s 7ms/step - loss: 6.7318e-05 - mse: 6.7318e-05\n",
      "Epoch 425/500\n",
      "1/1 [==============================] - 0s 5ms/step - loss: 6.6032e-05 - mse: 6.6032e-05\n",
      "Epoch 426/500\n",
      "1/1 [==============================] - 0s 6ms/step - loss: 6.4774e-05 - mse: 6.4774e-05\n",
      "Epoch 427/500\n",
      "1/1 [==============================] - 0s 6ms/step - loss: 6.3539e-05 - mse: 6.3539e-05\n",
      "Epoch 428/500\n",
      "1/1 [==============================] - 0s 5ms/step - loss: 6.2326e-05 - mse: 6.2326e-05\n",
      "Epoch 429/500\n",
      "1/1 [==============================] - 0s 9ms/step - loss: 6.1138e-05 - mse: 6.1138e-05\n",
      "Epoch 430/500\n",
      "1/1 [==============================] - 0s 9ms/step - loss: 5.9971e-05 - mse: 5.9971e-05\n",
      "Epoch 431/500\n",
      "1/1 [==============================] - 0s 17ms/step - loss: 5.8827e-05 - mse: 5.8827e-05\n",
      "Epoch 432/500\n",
      "1/1 [==============================] - 0s 6ms/step - loss: 5.7708e-05 - mse: 5.7708e-05\n",
      "Epoch 433/500\n",
      "1/1 [==============================] - 0s 11ms/step - loss: 5.6606e-05 - mse: 5.6606e-05\n",
      "Epoch 434/500\n",
      "1/1 [==============================] - 0s 10ms/step - loss: 5.5524e-05 - mse: 5.5524e-05\n",
      "Epoch 435/500\n",
      "1/1 [==============================] - 0s 14ms/step - loss: 5.4467e-05 - mse: 5.4467e-05\n",
      "Epoch 436/500\n",
      "1/1 [==============================] - 0s 6ms/step - loss: 5.3427e-05 - mse: 5.3427e-05\n",
      "Epoch 437/500\n",
      "1/1 [==============================] - 0s 5ms/step - loss: 5.2408e-05 - mse: 5.2408e-05\n",
      "Epoch 438/500\n",
      "1/1 [==============================] - 0s 12ms/step - loss: 5.1410e-05 - mse: 5.1410e-05\n",
      "Epoch 439/500\n",
      "1/1 [==============================] - 0s 13ms/step - loss: 5.0428e-05 - mse: 5.0428e-05\n",
      "Epoch 440/500\n",
      "1/1 [==============================] - 0s 6ms/step - loss: 4.9466e-05 - mse: 4.9466e-05\n",
      "Epoch 441/500\n",
      "1/1 [==============================] - 0s 8ms/step - loss: 4.8524e-05 - mse: 4.8524e-05\n",
      "Epoch 442/500\n",
      "1/1 [==============================] - 0s 12ms/step - loss: 4.7597e-05 - mse: 4.7597e-05\n",
      "Epoch 443/500\n",
      "1/1 [==============================] - 0s 11ms/step - loss: 4.6688e-05 - mse: 4.6688e-05\n",
      "Epoch 444/500\n",
      "1/1 [==============================] - 0s 7ms/step - loss: 4.5799e-05 - mse: 4.5799e-05\n",
      "Epoch 445/500\n",
      "1/1 [==============================] - 0s 9ms/step - loss: 4.4923e-05 - mse: 4.4923e-05\n",
      "Epoch 446/500\n",
      "1/1 [==============================] - 0s 14ms/step - loss: 4.4069e-05 - mse: 4.4069e-05\n",
      "Epoch 447/500\n",
      "1/1 [==============================] - 0s 5ms/step - loss: 4.3230e-05 - mse: 4.3230e-05\n",
      "Epoch 448/500\n",
      "1/1 [==============================] - 0s 9ms/step - loss: 4.2404e-05 - mse: 4.2404e-05\n",
      "Epoch 449/500\n",
      "1/1 [==============================] - 0s 6ms/step - loss: 4.1595e-05 - mse: 4.1595e-05\n",
      "Epoch 450/500\n",
      "1/1 [==============================] - 0s 11ms/step - loss: 4.0801e-05 - mse: 4.0801e-05\n",
      "Epoch 451/500\n",
      "1/1 [==============================] - 0s 11ms/step - loss: 4.0023e-05 - mse: 4.0023e-05\n",
      "Epoch 452/500\n",
      "1/1 [==============================] - 0s 13ms/step - loss: 3.9260e-05 - mse: 3.9260e-05\n",
      "Epoch 453/500\n",
      "1/1 [==============================] - 0s 14ms/step - loss: 3.8511e-05 - mse: 3.8511e-05\n",
      "Epoch 454/500\n",
      "1/1 [==============================] - 0s 4ms/step - loss: 3.7777e-05 - mse: 3.7777e-05\n",
      "Epoch 455/500\n",
      "1/1 [==============================] - 0s 18ms/step - loss: 3.7055e-05 - mse: 3.7055e-05\n",
      "Epoch 456/500\n",
      "1/1 [==============================] - 0s 18ms/step - loss: 3.6348e-05 - mse: 3.6348e-05\n",
      "Epoch 457/500\n",
      "1/1 [==============================] - 0s 18ms/step - loss: 3.5655e-05 - mse: 3.5655e-05\n",
      "Epoch 458/500\n",
      "1/1 [==============================] - 0s 14ms/step - loss: 3.4975e-05 - mse: 3.4975e-05\n",
      "Epoch 459/500\n",
      "1/1 [==============================] - 0s 21ms/step - loss: 3.4308e-05 - mse: 3.4308e-05\n",
      "Epoch 460/500\n",
      "1/1 [==============================] - 0s 7ms/step - loss: 3.3654e-05 - mse: 3.3654e-05\n",
      "Epoch 461/500\n",
      "1/1 [==============================] - 0s 10ms/step - loss: 3.3012e-05 - mse: 3.3012e-05\n",
      "Epoch 462/500\n",
      "1/1 [==============================] - 0s 6ms/step - loss: 3.2382e-05 - mse: 3.2382e-05\n",
      "Epoch 463/500\n",
      "1/1 [==============================] - 0s 15ms/step - loss: 3.1765e-05 - mse: 3.1765e-05\n",
      "Epoch 464/500\n",
      "1/1 [==============================] - 0s 6ms/step - loss: 3.1159e-05 - mse: 3.1159e-05\n",
      "Epoch 465/500\n",
      "1/1 [==============================] - 0s 5ms/step - loss: 3.0565e-05 - mse: 3.0565e-05\n",
      "Epoch 466/500\n",
      "1/1 [==============================] - 0s 16ms/step - loss: 2.9982e-05 - mse: 2.9982e-05\n",
      "Epoch 467/500\n",
      "1/1 [==============================] - 0s 9ms/step - loss: 2.9409e-05 - mse: 2.9409e-05\n",
      "Epoch 468/500\n",
      "1/1 [==============================] - 0s 5ms/step - loss: 2.8848e-05 - mse: 2.8848e-05\n",
      "Epoch 469/500\n",
      "1/1 [==============================] - 0s 5ms/step - loss: 2.8299e-05 - mse: 2.8299e-05\n",
      "Epoch 470/500\n",
      "1/1 [==============================] - 0s 7ms/step - loss: 2.7759e-05 - mse: 2.7759e-05\n",
      "Epoch 471/500\n",
      "1/1 [==============================] - 0s 10ms/step - loss: 2.7229e-05 - mse: 2.7229e-05\n",
      "Epoch 472/500\n",
      "1/1 [==============================] - 0s 5ms/step - loss: 2.6710e-05 - mse: 2.6710e-05\n",
      "Epoch 473/500\n",
      "1/1 [==============================] - 0s 7ms/step - loss: 2.6201e-05 - mse: 2.6201e-05\n",
      "Epoch 474/500\n",
      "1/1 [==============================] - 0s 5ms/step - loss: 2.5702e-05 - mse: 2.5702e-05\n",
      "Epoch 475/500\n",
      "1/1 [==============================] - 0s 5ms/step - loss: 2.5212e-05 - mse: 2.5212e-05\n",
      "Epoch 476/500\n",
      "1/1 [==============================] - 0s 8ms/step - loss: 2.4731e-05 - mse: 2.4731e-05\n",
      "Epoch 477/500\n",
      "1/1 [==============================] - 0s 5ms/step - loss: 2.4259e-05 - mse: 2.4259e-05\n",
      "Epoch 478/500\n",
      "1/1 [==============================] - 0s 35ms/step - loss: 2.3796e-05 - mse: 2.3796e-05\n",
      "Epoch 479/500\n",
      "1/1 [==============================] - 0s 21ms/step - loss: 2.3342e-05 - mse: 2.3342e-05\n",
      "Epoch 480/500\n",
      "1/1 [==============================] - 0s 7ms/step - loss: 2.2896e-05 - mse: 2.2896e-05\n",
      "Epoch 481/500\n",
      "1/1 [==============================] - 0s 7ms/step - loss: 2.2459e-05 - mse: 2.2459e-05\n",
      "Epoch 482/500\n",
      "1/1 [==============================] - 0s 4ms/step - loss: 2.2032e-05 - mse: 2.2032e-05\n",
      "Epoch 483/500\n",
      "1/1 [==============================] - 0s 7ms/step - loss: 2.1610e-05 - mse: 2.1610e-05\n",
      "Epoch 484/500\n",
      "1/1 [==============================] - 0s 6ms/step - loss: 2.1199e-05 - mse: 2.1199e-05\n",
      "Epoch 485/500\n",
      "1/1 [==============================] - 0s 10ms/step - loss: 2.0795e-05 - mse: 2.0795e-05\n",
      "Epoch 486/500\n",
      "1/1 [==============================] - 0s 7ms/step - loss: 2.0398e-05 - mse: 2.0398e-05\n",
      "Epoch 487/500\n",
      "1/1 [==============================] - 0s 8ms/step - loss: 2.0008e-05 - mse: 2.0008e-05\n",
      "Epoch 488/500\n",
      "1/1 [==============================] - 0s 8ms/step - loss: 1.9628e-05 - mse: 1.9628e-05\n",
      "Epoch 489/500\n",
      "1/1 [==============================] - 0s 9ms/step - loss: 1.9254e-05 - mse: 1.9254e-05\n",
      "Epoch 490/500\n",
      "1/1 [==============================] - 0s 22ms/step - loss: 1.8886e-05 - mse: 1.8886e-05\n",
      "Epoch 491/500\n",
      "1/1 [==============================] - 0s 6ms/step - loss: 1.8525e-05 - mse: 1.8525e-05\n",
      "Epoch 492/500\n",
      "1/1 [==============================] - 0s 7ms/step - loss: 1.8172e-05 - mse: 1.8172e-05\n",
      "Epoch 493/500\n",
      "1/1 [==============================] - 0s 6ms/step - loss: 1.7825e-05 - mse: 1.7825e-05\n",
      "Epoch 494/500\n",
      "1/1 [==============================] - 0s 7ms/step - loss: 1.7486e-05 - mse: 1.7486e-05\n",
      "Epoch 495/500\n",
      "1/1 [==============================] - 0s 8ms/step - loss: 1.7152e-05 - mse: 1.7152e-05\n",
      "Epoch 496/500\n",
      "1/1 [==============================] - 0s 9ms/step - loss: 1.6825e-05 - mse: 1.6825e-05\n",
      "Epoch 497/500\n",
      "1/1 [==============================] - 0s 4ms/step - loss: 1.6504e-05 - mse: 1.6504e-05\n",
      "Epoch 498/500\n",
      "1/1 [==============================] - 0s 8ms/step - loss: 1.6188e-05 - mse: 1.6188e-05\n",
      "Epoch 499/500\n",
      "1/1 [==============================] - 0s 6ms/step - loss: 1.5879e-05 - mse: 1.5879e-05\n",
      "Epoch 500/500\n",
      "1/1 [==============================] - 0s 9ms/step - loss: 1.5577e-05 - mse: 1.5577e-05\n"
     ]
    }
   ],
   "source": [
    "history = model.fit(X,y, epochs=500)"
   ]
  },
  {
   "cell_type": "markdown",
   "id": "ELcrfwfwARF6",
   "metadata": {
    "id": "ELcrfwfwARF6"
   },
   "source": [
    "As you can see, the loss went from `1.2677e-05` all the way down to `8.5635e-10`. If you run it again, these values may change. There are so many randomness involved in neural network training. Take an example, weights initialization is random. "
   ]
  },
  {
   "cell_type": "markdown",
   "id": "8-GLhw7OA9_M",
   "metadata": {
    "id": "8-GLhw7OA9_M"
   },
   "source": [
    "<a name='2-5'></a>\n",
    "### 2.5  Evaluating a Model"
   ]
  },
  {
   "cell_type": "markdown",
   "id": "bBZxei-vzHAz",
   "metadata": {
    "id": "bBZxei-vzHAz"
   },
   "source": [
    "After we have trained the model, the next step is to evaluate it. \n",
    "\n",
    "But first off, we can plot the loss versus the epochs to see how it performed. Plotting the model metrics is a fundamental step in performing the error analysis. \n",
    "\n",
    "The training metric `mse` and `loss` are contained in `history.history` and the number of epochs are in `history.epoch`. "
   ]
  },
  {
   "cell_type": "code",
   "execution_count": 37,
   "id": "pSGWj1bK5jDN",
   "metadata": {
    "colab": {
     "base_uri": "https://localhost:8080/",
     "height": 337
    },
    "id": "pSGWj1bK5jDN",
    "outputId": "90c7720f-351f-4400-a875-805eb4aeb5be"
   },
   "outputs": [
    {
     "data": {
      "text/plain": [
       "<matplotlib.axes._subplots.AxesSubplot at 0x7fc125114990>"
      ]
     },
     "execution_count": 37,
     "metadata": {
      "tags": []
     },
     "output_type": "execute_result"
    },
    {
     "data": {
      "image/png": "[encoded data removed]",
      "text/plain": [
       "<Figure size 720x360 with 1 Axes>"
      ]
     },
     "metadata": {
      "needs_background": "light",
      "tags": []
     },
     "output_type": "display_data"
    }
   ],
   "source": [
    "loss_df = pd.DataFrame(history.history)\n",
    "\n",
    "# Plot loss vs epochs\n",
    "\n",
    "loss_df.plot(figsize=(10,5))"
   ]
  },
  {
   "cell_type": "markdown",
   "id": "VolEuUKs-LvT",
   "metadata": {
    "id": "VolEuUKs-LvT"
   },
   "source": [
    "There are cowple of things to note from the above graph. \n",
    "\n",
    "* First off, the loss and metric we are tracking are all similar. They are both `mean_squared_error` or `mse`.\n",
    "* The model had no improvement from 80(approx) epochs. This means that 500 epochs was too much, and instead of burning resources or compute power, we would have trained for fewer epochs since the model does not show a significant improvements in the later epochs. \n",
    "\n",
    "Training for many epochs beyond what's needed is usually the cause of `overfitting`. We will learn more about overfitting later, but simply, it's when the model is so good on the training set but very poor on the test set or the new data. So, in our case we are forcing the model to fit the data by training it too much. Overfitting can also be caused by using bigger models (for small dataset), etc...\n",
    "\n",
    "\n",
    "That said, let's make some predictions on unseen data. For simplicity, let's predict `y` of `X=30`. Remember that our equation is `y=2X+1`, so with x=30, y should be equal to `61`.\n"
   ]
  },
  {
   "cell_type": "code",
   "execution_count": 38,
   "id": "u1oA77b0__LG",
   "metadata": {
    "colab": {
     "base_uri": "https://localhost:8080/"
    },
    "id": "u1oA77b0__LG",
    "outputId": "bcb769cd-85ae-4ed5-dd4b-044a7721766c"
   },
   "outputs": [
    {
     "data": {
      "text/plain": [
       "array([[61.015095]], dtype=float32)"
      ]
     },
     "execution_count": 38,
     "metadata": {
      "tags": []
     },
     "output_type": "execute_result"
    }
   ],
   "source": [
    "model.predict([30.0])"
   ]
  },
  {
   "cell_type": "markdown",
   "id": "iu2KiU4yA6pP",
   "metadata": {
    "id": "iu2KiU4yA6pP"
   },
   "source": [
    "Wow! That's so impressive. \n",
    "\n",
    "The model was able to determine the relationship between `X` and `y` and can use that relationship to predict `y` for unseen values of `X`. \n",
    "\n",
    "One thing to note that it is not guarranted to get the exact predictions, say 61. This is because there are so many randomness and probabilities involved behind the scene. \n",
    "\n",
    "\n",
    "One last thing we can try is to get the model parameters, that is weight and bias. And their values should be close to the coeffient and intercept of our linear equation, y=2X+1. 2 is coefficient(or weight), and 1 is the intercept(or bias). "
   ]
  },
  {
   "cell_type": "code",
   "execution_count": 39,
   "id": "b29uAewjCjB9",
   "metadata": {
    "colab": {
     "base_uri": "https://localhost:8080/"
    },
    "id": "b29uAewjCjB9",
    "outputId": "a428ea97-e455-460e-8340-52a8fb60aad5"
   },
   "outputs": [
    {
     "data": {
      "text/plain": [
       "[array([[2.00069]], dtype=float32), array([0.9943954], dtype=float32)]"
      ]
     },
     "execution_count": 39,
     "metadata": {
      "tags": []
     },
     "output_type": "execute_result"
    }
   ],
   "source": [
    "# Getting the model weights\n",
    "\n",
    "model.get_weights()"
   ]
  },
  {
   "cell_type": "markdown",
   "id": "TR61EgS-C-yl",
   "metadata": {
    "id": "TR61EgS-C-yl"
   },
   "source": [
    "So, as you can see, the model learned that the relationship between X and y is `y=2.0008771 + 0.9928744` and this is very close to `y=2X+1`. Something intringuing here is that there is no where told the model such relationship - `it simply learned it observing the data that we provided`, and `this is the basis of the idea that machine learning is used to extract patterns in data`. \n",
    "\n",
    "With complex data, you might not get such intuition because there will be so many parameters, but in our case, the model was simple, the data was simple, and that allowed us to `uncover` the principal idea behind machine learning - `learning the relationship/pattern between the input features and labels, and using such relationship to make predictions on unseen data.`"
   ]
  },
  {
   "cell_type": "markdown",
   "id": "SjI67-vME-2y",
   "metadata": {
    "id": "SjI67-vME-2y"
   },
   "source": [
    "<a name='2-6'></a>\n",
    "### 2.6  Improving the results"
   ]
  },
  {
   "cell_type": "markdown",
   "id": "FJNcx7oRFC-P",
   "metadata": {
    "id": "FJNcx7oRFC-P"
   },
   "source": [
    "Ideally, your model will likely not be good at the first. \n",
    "\n",
    "You will need to tweak some hyperparameters, or even improve the data. Also, there is a notion that [machine learning model is only 5% of what are to be done to ship a working machine learning system](https://jeande.medium.com/ml-model-is-5-what-should-we-be-doing-cd68ae14ad7f).  So, often, all you need is to improve the data than improving the model. There are even state of the art and open source models that you can take an advantages of if you have good data. And in those intances, building model will be out of the equation.  \n",
    "\n",
    "But ofcourse, improving the model and performing error analysis is not a trivial task and will depend on the results of the model on training and testing set. Here is some ideas that can guide you: \n",
    "\n",
    "* If the model is not doing well on the training data, it's a clue that the input data (X) doesn't contain the useful information needed to predict the output y. Or put it simply, the input features do not have `high predictive power`. The right thing to do here is to improve the data. Otherwise, the problem will perssit. \n",
    "\n",
    "* If the model is doing well on the training data but poorly on the testing data, it maybe that you overfitted the training data and that resulted in model failing to generalize on test/new data. Overfitting is one thing, there maybe other things not going well or worth improving. The right thing to do here is to plot the learning curve and see what's to be done based off what you are seeing.\n",
    "\n",
    "\n",
    "\n",
    "\n"
   ]
  },
  {
   "cell_type": "markdown",
   "id": "eftCBSkUSCYV",
   "metadata": {
    "id": "eftCBSkUSCYV"
   },
   "source": [
    "Up to now, we have come a long way doing regression with neural networks. We have learned how to create a simple data, how to create, train, and compile a simple model, evaluating the results, and we saw some ideas on perfoming error analysis. \n",
    "\n",
    "We started simple with the goal of getting prepared to take a step further into real world scanerios. I wanted to jump quicky to bigger models and computer vision things but I remembered that quite often, it is understanding the basics that can set us off for understanding the bigger picture. \n",
    "\n",
    "To make it more exciting, let's not stop on linear equation (we could after all, we did regression already), but let's step into real world dataset, still practicing regression. "
   ]
  },
  {
   "cell_type": "markdown",
   "id": "Ce1AurnvUWUr",
   "metadata": {
    "id": "Ce1AurnvUWUr"
   },
   "source": [
    "<a name='3'></a>\n",
    "\n",
    "## 3. Going Beyond: A Real world dataset"
   ]
  },
  {
   "cell_type": "markdown",
   "id": "MbhDb1hgWjy_",
   "metadata": {
    "id": "MbhDb1hgWjy_"
   },
   "source": [
    "Welome to the second part of the notebook, where we leap into real world scenarios. \n",
    "\n",
    "Still doing regression, we will use the real world forest dataset to predict the burned area of forest fires, in the northeast region of Portugal, by using meteorological and other data. \n",
    "\n",
    "You can learn more about the dataset [here](https://archive.ics.uci.edu/ml/datasets/Forest+Fires)."
   ]
  },
  {
   "cell_type": "markdown",
   "id": "_RplpeLNUYj0",
   "metadata": {
    "id": "_RplpeLNUYj0"
   },
   "source": [
    "<a name='3-1'></a>\n",
    "\n",
    "## 3.1 Loading the data"
   ]
  },
  {
   "cell_type": "markdown",
   "id": "YFVMmxtm6R_a",
   "metadata": {
    "id": "YFVMmxtm6R_a"
   },
   "source": [
    "Before loading the dataset, I will first import all relevant imports. "
   ]
  },
  {
   "cell_type": "markdown",
   "id": "JkG09wMBNVpf",
   "metadata": {
    "id": "JkG09wMBNVpf"
   },
   "source": [
    "Here are the information about the attributes: \n",
    "\n",
    "1. X - x-axis spatial coordinate within the Montesinho park map: 1 to 9 \n",
    "2. Y - y-axis spatial coordinate within the Montesinho park map: 2 to 9 \n",
    "3. month - month of the year: 'jan' to 'dec' \n",
    "4. day - day of the week: 'mon' to 'sun' \n",
    "5. FFMC - FFMC index from the FWI system: 18.7 to 96.20 \n",
    "6. DMC - DMC index from the FWI system: 1.1 to 291.3 \n",
    "7. DC - DC index from the FWI system: 7.9 to 860.6 \n",
    "8. ISI - ISI index from the FWI system: 0.0 to 56.10 \n",
    "9. temp - temperature in Celsius degrees: 2.2 to 33.30 \n",
    "10. RH - relative humidity in %: 15.0 to 100 \n",
    "11. wind - wind speed in km/h: 0.40 to 9.40 \n",
    "12. rain - outside rain in mm/m2 : 0.0 to 6.4 \n",
    "13. area - the burned area of the forest (in ha): 0.00 to 1090.84 \n",
    "\n",
    "Source: https://archive.ics.uci.edu/ml/datasets/Forest+**Fires\n"
   ]
  },
  {
   "cell_type": "code",
   "execution_count": 40,
   "id": "t4HzO0qP6ZyU",
   "metadata": {
    "id": "t4HzO0qP6ZyU"
   },
   "outputs": [],
   "source": [
    "import tensorflow as tf\n",
    "from tensorflow import keras\n",
    "import numpy as np\n",
    "import pandas as pd\n",
    "import matplotlib.pyplot as plt\n",
    "import seaborn as sns"
   ]
  },
  {
   "cell_type": "markdown",
   "id": "BWPs93SeGNrf",
   "metadata": {
    "id": "BWPs93SeGNrf"
   },
   "source": [
    "Let's download the dataset and load it into a Pandas dataframe using `pd.read_csv()`,"
   ]
  },
  {
   "cell_type": "code",
   "execution_count": 41,
   "id": "k6fog1WK9-bt",
   "metadata": {
    "id": "k6fog1WK9-bt"
   },
   "outputs": [],
   "source": [
    "dataset_url = 'https://archive.ics.uci.edu/ml/machine-learning-databases/forest-fires/forestfires.csv'\n",
    "\n",
    "forest_df = pd.read_csv(dataset_url)"
   ]
  },
  {
   "cell_type": "markdown",
   "id": "mtdI1_o1G_6g",
   "metadata": {
    "id": "mtdI1_o1G_6g"
   },
   "source": [
    "Let's see the features and their data types"
   ]
  },
  {
   "cell_type": "code",
   "execution_count": 42,
   "id": "lZyX4Wg1G4ac",
   "metadata": {
    "colab": {
     "base_uri": "https://localhost:8080/"
    },
    "id": "lZyX4Wg1G4ac",
    "outputId": "387e3cac-f2c0-4895-b8c5-5557df68d59a"
   },
   "outputs": [
    {
     "name": "stdout",
     "output_type": "stream",
     "text": [
      "<class 'pandas.core.frame.DataFrame'>\n",
      "RangeIndex: 517 entries, 0 to 516\n",
      "Data columns (total 13 columns):\n",
      " #   Column  Non-Null Count  Dtype  \n",
      "---  ------  --------------  -----  \n",
      " 0   X       517 non-null    int64  \n",
      " 1   Y       517 non-null    int64  \n",
      " 2   month   517 non-null    object \n",
      " 3   day     517 non-null    object \n",
      " 4   FFMC    517 non-null    float64\n",
      " 5   DMC     517 non-null    float64\n",
      " 6   DC      517 non-null    float64\n",
      " 7   ISI     517 non-null    float64\n",
      " 8   temp    517 non-null    float64\n",
      " 9   RH      517 non-null    int64  \n",
      " 10  wind    517 non-null    float64\n",
      " 11  rain    517 non-null    float64\n",
      " 12  area    517 non-null    float64\n",
      "dtypes: float64(8), int64(3), object(2)\n",
      "memory usage: 52.6+ KB\n"
     ]
    }
   ],
   "source": [
    "forest_df.info()"
   ]
  },
  {
   "cell_type": "markdown",
   "id": "mNrE3bEyJtP9",
   "metadata": {
    "id": "mNrE3bEyJtP9"
   },
   "source": [
    "The dataset contains 517 examples and 13 columns, 12 features and 1 label (`areas`). "
   ]
  },
  {
   "cell_type": "code",
   "execution_count": 43,
   "id": "ufgJHWdhG-Rm",
   "metadata": {
    "colab": {
     "base_uri": "https://localhost:8080/"
    },
    "id": "ufgJHWdhG-Rm",
    "outputId": "5b334536-a20a-4e56-b7ea-82182dea3588"
   },
   "outputs": [
    {
     "name": "stdout",
     "output_type": "stream",
     "text": [
      "(517, 13)\n"
     ]
    }
   ],
   "source": [
    "print(forest_df.shape)"
   ]
  },
  {
   "cell_type": "markdown",
   "id": "sxFGkjy8KqvN",
   "metadata": {
    "id": "sxFGkjy8KqvN"
   },
   "source": [
    "<a name='3-2'></a>\n",
    "\n",
    "## 3.2 Looking in the data"
   ]
  },
  {
   "cell_type": "markdown",
   "id": "tF_IKN-JKyYI",
   "metadata": {
    "id": "tF_IKN-JKyYI"
   },
   "source": [
    "We will not go deep into analysis, but let's try to learn about the data we have. Before that, I will first split the dataset into training and test set. \n",
    "\n",
    "I will use Scikit-Learn `train_test_split`."
   ]
  },
  {
   "cell_type": "code",
   "execution_count": 44,
   "id": "dj61Dr0aKtfC",
   "metadata": {
    "id": "dj61Dr0aKtfC"
   },
   "outputs": [],
   "source": [
    "from sklearn.model_selection import train_test_split\n",
    "\n",
    "train_data, test_data = train_test_split(forest_df, test_size=0.3, random_state=42)"
   ]
  },
  {
   "cell_type": "code",
   "execution_count": 45,
   "id": "e5H1K90wL-I2",
   "metadata": {
    "colab": {
     "base_uri": "https://localhost:8080/"
    },
    "id": "e5H1K90wL-I2",
    "outputId": "f57dbb02-8d00-4c7f-b77b-c3e975cf008c"
   },
   "outputs": [
    {
     "name": "stdout",
     "output_type": "stream",
     "text": [
      "The shape of training data: (361, 13)\n",
      "The shape of testing data: (156, 13)\n"
     ]
    }
   ],
   "source": [
    "print('The shape of training data: {}\\nThe shape of testing data: {}'.format(train_data.shape, test_data.shape))"
   ]
  },
  {
   "cell_type": "markdown",
   "id": "rJLgRbRfLb91",
   "metadata": {
    "id": "rJLgRbRfLb91"
   },
   "source": [
    "Let's peep into the data."
   ]
  },
  {
   "cell_type": "code",
   "execution_count": 46,
   "id": "9G5OXBW_LYzA",
   "metadata": {
    "colab": {
     "base_uri": "https://localhost:8080/",
     "height": 203
    },
    "id": "9G5OXBW_LYzA",
    "outputId": "4a155c14-d14a-424e-a91b-61f0cd6b712e"
   },
   "outputs": [
    {
     "data": {
      "text/html": [
       "<div>\n",
       "<style scoped>\n",
       "    .dataframe tbody tr th:only-of-type {\n",
       "        vertical-align: middle;\n",
       "    }\n",
       "\n",
       "    .dataframe tbody tr th {\n",
       "        vertical-align: top;\n",
       "    }\n",
       "\n",
       "    .dataframe thead th {\n",
       "        text-align: right;\n",
       "    }\n",
       "</style>\n",
       "<table border=\"1\" class=\"dataframe\">\n",
       "  <thead>\n",
       "    <tr style=\"text-align: right;\">\n",
       "      <th></th>\n",
       "      <th>X</th>\n",
       "      <th>Y</th>\n",
       "      <th>month</th>\n",
       "      <th>day</th>\n",
       "      <th>FFMC</th>\n",
       "      <th>DMC</th>\n",
       "      <th>DC</th>\n",
       "      <th>ISI</th>\n",
       "      <th>temp</th>\n",
       "      <th>RH</th>\n",
       "      <th>wind</th>\n",
       "      <th>rain</th>\n",
       "      <th>area</th>\n",
       "    </tr>\n",
       "  </thead>\n",
       "  <tbody>\n",
       "    <tr>\n",
       "      <th>311</th>\n",
       "      <td>6</td>\n",
       "      <td>3</td>\n",
       "      <td>sep</td>\n",
       "      <td>sun</td>\n",
       "      <td>92.4</td>\n",
       "      <td>105.8</td>\n",
       "      <td>758.1</td>\n",
       "      <td>9.9</td>\n",
       "      <td>24.8</td>\n",
       "      <td>28</td>\n",
       "      <td>1.8</td>\n",
       "      <td>0.0</td>\n",
       "      <td>14.29</td>\n",
       "    </tr>\n",
       "    <tr>\n",
       "      <th>368</th>\n",
       "      <td>6</td>\n",
       "      <td>5</td>\n",
       "      <td>sep</td>\n",
       "      <td>sat</td>\n",
       "      <td>91.2</td>\n",
       "      <td>94.3</td>\n",
       "      <td>744.4</td>\n",
       "      <td>8.4</td>\n",
       "      <td>16.8</td>\n",
       "      <td>47</td>\n",
       "      <td>4.9</td>\n",
       "      <td>0.0</td>\n",
       "      <td>12.64</td>\n",
       "    </tr>\n",
       "    <tr>\n",
       "      <th>23</th>\n",
       "      <td>7</td>\n",
       "      <td>4</td>\n",
       "      <td>aug</td>\n",
       "      <td>sat</td>\n",
       "      <td>90.2</td>\n",
       "      <td>110.9</td>\n",
       "      <td>537.4</td>\n",
       "      <td>6.2</td>\n",
       "      <td>19.5</td>\n",
       "      <td>43</td>\n",
       "      <td>5.8</td>\n",
       "      <td>0.0</td>\n",
       "      <td>0.00</td>\n",
       "    </tr>\n",
       "    <tr>\n",
       "      <th>271</th>\n",
       "      <td>8</td>\n",
       "      <td>6</td>\n",
       "      <td>aug</td>\n",
       "      <td>tue</td>\n",
       "      <td>92.1</td>\n",
       "      <td>152.6</td>\n",
       "      <td>658.2</td>\n",
       "      <td>14.3</td>\n",
       "      <td>20.1</td>\n",
       "      <td>58</td>\n",
       "      <td>4.5</td>\n",
       "      <td>0.0</td>\n",
       "      <td>9.27</td>\n",
       "    </tr>\n",
       "    <tr>\n",
       "      <th>299</th>\n",
       "      <td>6</td>\n",
       "      <td>5</td>\n",
       "      <td>jun</td>\n",
       "      <td>sat</td>\n",
       "      <td>53.4</td>\n",
       "      <td>71.0</td>\n",
       "      <td>233.8</td>\n",
       "      <td>0.4</td>\n",
       "      <td>10.6</td>\n",
       "      <td>90</td>\n",
       "      <td>2.7</td>\n",
       "      <td>0.0</td>\n",
       "      <td>0.00</td>\n",
       "    </tr>\n",
       "  </tbody>\n",
       "</table>\n",
       "</div>"
      ],
      "text/plain": [
       "     X  Y month  day  FFMC    DMC     DC   ISI  temp  RH  wind  rain   area\n",
       "311  6  3   sep  sun  92.4  105.8  758.1   9.9  24.8  28   1.8   0.0  14.29\n",
       "368  6  5   sep  sat  91.2   94.3  744.4   8.4  16.8  47   4.9   0.0  12.64\n",
       "23   7  4   aug  sat  90.2  110.9  537.4   6.2  19.5  43   5.8   0.0   0.00\n",
       "271  8  6   aug  tue  92.1  152.6  658.2  14.3  20.1  58   4.5   0.0   9.27\n",
       "299  6  5   jun  sat  53.4   71.0  233.8   0.4  10.6  90   2.7   0.0   0.00"
      ]
     },
     "execution_count": 46,
     "metadata": {
      "tags": []
     },
     "output_type": "execute_result"
    }
   ],
   "source": [
    "train_data.head(5)"
   ]
  },
  {
   "cell_type": "markdown",
   "id": "T6j7bE2qLywN",
   "metadata": {
    "id": "T6j7bE2qLywN"
   },
   "source": [
    "It seems that we have two categorical features, `month` and `day`. We will remember to encode them. For now we can see the number of samples in each month and later in each day. "
   ]
  },
  {
   "cell_type": "code",
   "execution_count": 47,
   "id": "01Ag_eK4MVxx",
   "metadata": {
    "colab": {
     "base_uri": "https://localhost:8080/",
     "height": 348
    },
    "id": "01Ag_eK4MVxx",
    "outputId": "1bd8d799-8193-4d9c-87c7-e757539b01ef"
   },
   "outputs": [
    {
     "data": {
      "text/plain": [
       "<matplotlib.axes._subplots.AxesSubplot at 0x7fc1229df8d0>"
      ]
     },
     "execution_count": 47,
     "metadata": {
      "tags": []
     },
     "output_type": "execute_result"
    },
    {
     "data": {
      "image/png": "[encoded data removed]",
      "text/plain": [
       "<Figure size 720x360 with 1 Axes>"
      ]
     },
     "metadata": {
      "needs_background": "light",
      "tags": []
     },
     "output_type": "display_data"
    }
   ],
   "source": [
    "train_data['month'].value_counts().plot(kind='bar', figsize=(10,5))"
   ]
  },
  {
   "cell_type": "code",
   "execution_count": 48,
   "id": "LSRX1fskMajw",
   "metadata": {
    "colab": {
     "base_uri": "https://localhost:8080/",
     "height": 349
    },
    "id": "LSRX1fskMajw",
    "outputId": "9001dda2-1716-4368-c3bd-924c8cbc4939"
   },
   "outputs": [
    {
     "data": {
      "text/plain": [
       "<matplotlib.axes._subplots.AxesSubplot at 0x7fc12050b410>"
      ]
     },
     "execution_count": 48,
     "metadata": {
      "tags": []
     },
     "output_type": "execute_result"
    },
    {
     "data": {
      "image/png": "[encoded data removed]",
      "text/plain": [
       "<Figure size 720x360 with 1 Axes>"
      ]
     },
     "metadata": {
      "needs_background": "light",
      "tags": []
     },
     "output_type": "display_data"
    }
   ],
   "source": [
    "train_data['day'].value_counts().plot(kind='bar', figsize=(10,5))"
   ]
  },
  {
   "cell_type": "markdown",
   "id": "uPDQxTMzO7xu",
   "metadata": {
    "id": "uPDQxTMzO7xu"
   },
   "source": [
    "We can also check the distribution of the area. Area is very skewed, you can see that most values are very close to zero. \n",
    "\n"
   ]
  },
  {
   "cell_type": "code",
   "execution_count": 49,
   "id": "VIIQnLdQPCUX",
   "metadata": {
    "colab": {
     "base_uri": "https://localhost:8080/",
     "height": 296
    },
    "id": "VIIQnLdQPCUX",
    "outputId": "db361c5f-e6d0-43d3-852d-cd0463ecef67"
   },
   "outputs": [
    {
     "data": {
      "text/plain": [
       "<matplotlib.axes._subplots.AxesSubplot at 0x7fc1204ac5d0>"
      ]
     },
     "execution_count": 49,
     "metadata": {
      "tags": []
     },
     "output_type": "execute_result"
    },
    {
     "data": {
      "image/png": "[encoded data removed]",
      "text/plain": [
       "<Figure size 432x288 with 1 Axes>"
      ]
     },
     "metadata": {
      "needs_background": "light",
      "tags": []
     },
     "output_type": "display_data"
    }
   ],
   "source": [
    "sns.kdeplot(data=train_data, x='area', color='red')"
   ]
  },
  {
   "cell_type": "markdown",
   "id": "Mr_SUbRXSTiB",
   "metadata": {
    "id": "Mr_SUbRXSTiB"
   },
   "source": [
    "<a name='3-3'></a>\n",
    "\n",
    "## 3.3 Preparing the Data for the Model\n",
    "\n",
    "Here we will do two things, one is to normalize numerical features and the second is to encode categorical features. We can set up a pipeline to handle that. \n",
    "\n",
    "For simplicity, we will use Scikit-Learn processing functions. \n",
    "\n",
    "I will first separate features and label. We can use a function that can also be applied to test set.  "
   ]
  },
  {
   "cell_type": "code",
   "execution_count": 50,
   "id": "4fHdD4ND8klK",
   "metadata": {
    "id": "4fHdD4ND8klK"
   },
   "outputs": [],
   "source": [
    "def get_feats_and_labels(data, label):\n",
    "  \"\"\" Take data and label as inputs, return features and labels separated \"\"\"\n",
    "\n",
    "  data_feats = data.drop(label, axis=1)\n",
    "  data_label = data[label]\n",
    "\n",
    "  return data_feats, data_label"
   ]
  },
  {
   "cell_type": "markdown",
   "id": "w2xPKoSO9bI9",
   "metadata": {
    "id": "w2xPKoSO9bI9"
   },
   "source": [
    "Let's use the function created above to get the features and labels."
   ]
  },
  {
   "cell_type": "code",
   "execution_count": 51,
   "id": "ruS-krcN81nA",
   "metadata": {
    "id": "ruS-krcN81nA"
   },
   "outputs": [],
   "source": [
    "train_feats, train_label = get_feats_and_labels(train_data, 'area')"
   ]
  },
  {
   "cell_type": "code",
   "execution_count": 52,
   "id": "-LC74aAlSaOJ",
   "metadata": {
    "id": "-LC74aAlSaOJ"
   },
   "outputs": [],
   "source": [
    "from sklearn.compose import ColumnTransformer\n",
    "from sklearn.preprocessing import StandardScaler, OrdinalEncoder\n",
    "\n",
    "scaler = StandardScaler()\n",
    "encoder = OrdinalEncoder()\n",
    "\n",
    "\n",
    "# The column transformer requires lists of features\n",
    "\n",
    "num_feats = ['X', 'Y', 'FFMC', 'DMC', 'DC', 'ISI', 'temp', 'RH',\n",
    "       'wind', 'rain']\n",
    "cat_feats = ['month', 'day']\n",
    "\n",
    "# define the pipeline to scale the numeric features and handle categorical features\n",
    "final_pipe = ColumnTransformer([\n",
    "   ('num',scaler , num_feats),    \n",
    "   ('cat', encoder , cat_feats)                        \n",
    "\n",
    "])\n",
    "\n",
    "training_data_prepared = final_pipe.fit_transform(train_feats)"
   ]
  },
  {
   "cell_type": "markdown",
   "id": "tYog2gmfWhzq",
   "metadata": {
    "id": "tYog2gmfWhzq"
   },
   "source": [
    "Now, we can see the shape of the transformed dataset. It is a NumPy array. "
   ]
  },
  {
   "cell_type": "code",
   "execution_count": 53,
   "id": "I7nb6z5kWAXf",
   "metadata": {
    "colab": {
     "base_uri": "https://localhost:8080/"
    },
    "id": "I7nb6z5kWAXf",
    "outputId": "c0ac5b79-f42d-4e3f-9e08-e4ffa6c10ee0"
   },
   "outputs": [
    {
     "data": {
      "text/plain": [
       "(361, 12)"
      ]
     },
     "execution_count": 53,
     "metadata": {
      "tags": []
     },
     "output_type": "execute_result"
    }
   ],
   "source": [
    "training_data_prepared.shape"
   ]
  },
  {
   "cell_type": "code",
   "execution_count": 54,
   "id": "gom2N0zkW6Me",
   "metadata": {
    "colab": {
     "base_uri": "https://localhost:8080/"
    },
    "id": "gom2N0zkW6Me",
    "outputId": "44336017-3919-4ee6-80e8-364a58ce75e2"
   },
   "outputs": [
    {
     "data": {
      "text/plain": [
       "numpy.ndarray"
      ]
     },
     "execution_count": 54,
     "metadata": {
      "tags": []
     },
     "output_type": "execute_result"
    }
   ],
   "source": [
    "type(training_data_prepared)"
   ]
  },
  {
   "cell_type": "markdown",
   "id": "loeQqU-v1aoo",
   "metadata": {
    "id": "loeQqU-v1aoo"
   },
   "source": [
    "Also let's tranform the test set. Note that for the test set, we don't `fit_transform()`. \n",
    "\n",
    "I will get the features and labels separated first."
   ]
  },
  {
   "cell_type": "code",
   "execution_count": 55,
   "id": "NkI8fXYS1vXp",
   "metadata": {
    "id": "NkI8fXYS1vXp"
   },
   "outputs": [],
   "source": [
    "test_feats, test_label = get_feats_and_labels(test_data, 'area')"
   ]
  },
  {
   "cell_type": "markdown",
   "id": "Rbq6pgYG2GGt",
   "metadata": {
    "id": "Rbq6pgYG2GGt"
   },
   "source": [
    "And now we transform the test features."
   ]
  },
  {
   "cell_type": "code",
   "execution_count": 56,
   "id": "lldqbz9-2M_S",
   "metadata": {
    "id": "lldqbz9-2M_S"
   },
   "outputs": [],
   "source": [
    "test_data_prepared = final_pipe.transform(test_feats)"
   ]
  },
  {
   "cell_type": "markdown",
   "id": "J_rggNrUG92O",
   "metadata": {
    "id": "J_rggNrUG92O"
   },
   "source": [
    "Let's convert train and test labels to NumPy array."
   ]
  },
  {
   "cell_type": "code",
   "execution_count": 57,
   "id": "CiO8zTLNGR3x",
   "metadata": {
    "id": "CiO8zTLNGR3x"
   },
   "outputs": [],
   "source": [
    "train_label = train_label.to_numpy()\n",
    "test_label = test_label.to_numpy()"
   ]
  },
  {
   "cell_type": "markdown",
   "id": "gKG6nbrJXOza",
   "metadata": {
    "id": "gKG6nbrJXOza"
   },
   "source": [
    "<a name='3-4'></a>\n",
    "\n",
    "## 3.4 Creating, Compiling and Training a Model"
   ]
  },
  {
   "cell_type": "markdown",
   "id": "-ckljbee4qxZ",
   "metadata": {
    "id": "-ckljbee4qxZ"
   },
   "source": [
    "Now that our data is prepared, it's time to create a neural network regressor. \n",
    "\n",
    "Like in the first example, we will use the [Sequential API](https://keras.io/api/models/sequential/). \n",
    "\n",
    "Everytime we are creating a model in TensorFlow, we have to specify the input shape. In this example, the input shape will be:\n"
   ]
  },
  {
   "cell_type": "code",
   "execution_count": 58,
   "id": "ttRc3aELAAnO",
   "metadata": {
    "colab": {
     "base_uri": "https://localhost:8080/"
    },
    "id": "ttRc3aELAAnO",
    "outputId": "fef6b556-f396-4cca-d980-31e8d7890e51"
   },
   "outputs": [
    {
     "data": {
      "text/plain": [
       "(12,)"
      ]
     },
     "execution_count": 58,
     "metadata": {
      "tags": []
     },
     "output_type": "execute_result"
    }
   ],
   "source": [
    "input_shape = training_data_prepared.shape[1:]\n",
    "input_shape"
   ]
  },
  {
   "cell_type": "code",
   "execution_count": 64,
   "id": "G8DZ4p9_XZbi",
   "metadata": {
    "id": "G8DZ4p9_XZbi"
   },
   "outputs": [],
   "source": [
    "model = keras.models.Sequential([\n",
    "                                 \n",
    "            # The first layers must specify the input shape always\n",
    "            keras.layers.Dense(12, activation='relu', input_shape=input_shape),\n",
    "            keras.layers.Dense(24, activation='relu'),\n",
    "\n",
    "            # The last layer usually doesn't have activation function in regression\n",
    "            keras.layers.Dense(1)                \n",
    "\n",
    "])\n",
    "\n",
    "# Now we compile the model\n",
    "model.compile(loss='mean_squared_error', optimizer='adam')"
   ]
  },
  {
   "cell_type": "markdown",
   "id": "hARZnzj5CuhL",
   "metadata": {
    "id": "hARZnzj5CuhL"
   },
   "source": [
    "Let's see the model summary. "
   ]
  },
  {
   "cell_type": "code",
   "execution_count": 65,
   "id": "hkPDJF9TCxEb",
   "metadata": {
    "colab": {
     "base_uri": "https://localhost:8080/"
    },
    "id": "hkPDJF9TCxEb",
    "outputId": "fb72cbb2-3852-4b7b-bf59-7bf827658824"
   },
   "outputs": [
    {
     "name": "stdout",
     "output_type": "stream",
     "text": [
      "Model: \"sequential_3\"\n",
      "_________________________________________________________________\n",
      "Layer (type)                 Output Shape              Param #   \n",
      "=================================================================\n",
      "dense_5 (Dense)              (None, 12)                156       \n",
      "_________________________________________________________________\n",
      "dense_6 (Dense)              (None, 24)                312       \n",
      "_________________________________________________________________\n",
      "dense_7 (Dense)              (None, 1)                 25        \n",
      "=================================================================\n",
      "Total params: 493\n",
      "Trainable params: 493\n",
      "Non-trainable params: 0\n",
      "_________________________________________________________________\n"
     ]
    }
   ],
   "source": [
    "model.summary()"
   ]
  },
  {
   "cell_type": "markdown",
   "id": "AIuSKB93Bk2S",
   "metadata": {
    "id": "AIuSKB93Bk2S"
   },
   "source": [
    "Remember, when the model is created in TensorFlow, it is like an empty graphs. We can even visualize it. \n"
   ]
  },
  {
   "cell_type": "code",
   "execution_count": 66,
   "id": "gyxUlkxGBvUD",
   "metadata": {
    "colab": {
     "base_uri": "https://localhost:8080/",
     "height": 369
    },
    "id": "gyxUlkxGBvUD",
    "outputId": "ea494afb-32e2-44a2-f273-c25f8a9b8f7a"
   },
   "outputs": [
    {
     "data": {
      "image/png": "[encoded data removed]",
      "text/plain": [
       "<IPython.core.display.Image object>"
      ]
     },
     "execution_count": 66,
     "metadata": {
      "tags": []
     },
     "output_type": "execute_result"
    }
   ],
   "source": [
    "from tensorflow.keras.utils import plot_model\n",
    "\n",
    "plot_model(model, to_file='model.png')"
   ]
  },
  {
   "cell_type": "markdown",
   "id": "ZHunKbu3CQYt",
   "metadata": {
    "id": "ZHunKbu3CQYt"
   },
   "source": [
    "Before training or fitting the model to the data, a model is nothing other than empty graphs. \n",
    "\n",
    "Now let's train the model. "
   ]
  },
  {
   "cell_type": "code",
   "execution_count": 67,
   "id": "KS3MtZzeCoHE",
   "metadata": {
    "colab": {
     "base_uri": "https://localhost:8080/"
    },
    "id": "KS3MtZzeCoHE",
    "outputId": "53d7a9f1-2d7f-400b-f7cb-e2c1ee8dcff2"
   },
   "outputs": [
    {
     "name": "stdout",
     "output_type": "stream",
     "text": [
      "Epoch 1/50\n",
      "12/12 [==============================] - 0s 12ms/step - loss: 2469.2397 - val_loss: 8134.5859\n",
      "Epoch 2/50\n",
      "12/12 [==============================] - 0s 3ms/step - loss: 2459.2871 - val_loss: 8118.8228\n",
      "Epoch 3/50\n",
      "12/12 [==============================] - 0s 3ms/step - loss: 2450.7903 - val_loss: 8103.8804\n",
      "Epoch 4/50\n",
      "12/12 [==============================] - 0s 3ms/step - loss: 2441.6943 - val_loss: 8089.2666\n",
      "Epoch 5/50\n",
      "12/12 [==============================] - 0s 5ms/step - loss: 2434.0076 - val_loss: 8072.9697\n",
      "Epoch 6/50\n",
      "12/12 [==============================] - 0s 3ms/step - loss: 2424.5598 - val_loss: 8058.1284\n",
      "Epoch 7/50\n",
      "12/12 [==============================] - 0s 5ms/step - loss: 2415.4243 - val_loss: 8043.0474\n",
      "Epoch 8/50\n",
      "12/12 [==============================] - 0s 4ms/step - loss: 2408.8987 - val_loss: 8027.8652\n",
      "Epoch 9/50\n",
      "12/12 [==============================] - 0s 5ms/step - loss: 2400.1633 - val_loss: 8016.6123\n",
      "Epoch 10/50\n",
      "12/12 [==============================] - 0s 4ms/step - loss: 2394.5269 - val_loss: 8002.1450\n",
      "Epoch 11/50\n",
      "12/12 [==============================] - 0s 4ms/step - loss: 2387.1274 - val_loss: 7992.6460\n",
      "Epoch 12/50\n",
      "12/12 [==============================] - 0s 3ms/step - loss: 2381.7930 - val_loss: 7977.2622\n",
      "Epoch 13/50\n",
      "12/12 [==============================] - 0s 3ms/step - loss: 2374.9229 - val_loss: 7964.3071\n",
      "Epoch 14/50\n",
      "12/12 [==============================] - 0s 5ms/step - loss: 2369.6033 - val_loss: 7950.7603\n",
      "Epoch 15/50\n",
      "12/12 [==============================] - 0s 3ms/step - loss: 2363.9551 - val_loss: 7944.3311\n",
      "Epoch 16/50\n",
      "12/12 [==============================] - 0s 3ms/step - loss: 2360.1489 - val_loss: 7940.5791\n",
      "Epoch 17/50\n",
      "12/12 [==============================] - 0s 3ms/step - loss: 2357.5649 - val_loss: 7931.1465\n",
      "Epoch 18/50\n",
      "12/12 [==============================] - 0s 3ms/step - loss: 2352.6367 - val_loss: 7928.5425\n",
      "Epoch 19/50\n",
      "12/12 [==============================] - 0s 3ms/step - loss: 2349.8198 - val_loss: 7929.9912\n",
      "Epoch 20/50\n",
      "12/12 [==============================] - 0s 3ms/step - loss: 2348.3557 - val_loss: 7922.7339\n",
      "Epoch 21/50\n",
      "12/12 [==============================] - 0s 4ms/step - loss: 2344.6016 - val_loss: 7923.1060\n",
      "Epoch 22/50\n",
      "12/12 [==============================] - 0s 3ms/step - loss: 2342.2639 - val_loss: 7924.5825\n",
      "Epoch 23/50\n",
      "12/12 [==============================] - 0s 4ms/step - loss: 2340.2104 - val_loss: 7926.3301\n",
      "Epoch 24/50\n",
      "12/12 [==============================] - 0s 5ms/step - loss: 2337.6282 - val_loss: 7923.0034\n",
      "Epoch 25/50\n",
      "12/12 [==============================] - 0s 6ms/step - loss: 2335.4111 - val_loss: 7922.9038\n",
      "Epoch 26/50\n",
      "12/12 [==============================] - 0s 3ms/step - loss: 2333.2837 - val_loss: 7924.2603\n",
      "Epoch 27/50\n",
      "12/12 [==============================] - 0s 3ms/step - loss: 2331.5825 - val_loss: 7927.1953\n",
      "Epoch 28/50\n",
      "12/12 [==============================] - 0s 3ms/step - loss: 2329.1016 - val_loss: 7927.0884\n",
      "Epoch 29/50\n",
      "12/12 [==============================] - 0s 5ms/step - loss: 2327.0312 - val_loss: 7928.7388\n",
      "Epoch 30/50\n",
      "12/12 [==============================] - 0s 5ms/step - loss: 2324.4333 - val_loss: 7928.5186\n",
      "Epoch 31/50\n",
      "12/12 [==============================] - 0s 3ms/step - loss: 2323.7446 - val_loss: 7930.0737\n",
      "Epoch 32/50\n",
      "12/12 [==============================] - 0s 5ms/step - loss: 2320.0112 - val_loss: 7929.5078\n",
      "Epoch 33/50\n",
      "12/12 [==============================] - 0s 4ms/step - loss: 2318.2605 - val_loss: 7929.9624\n",
      "Epoch 34/50\n",
      "12/12 [==============================] - 0s 5ms/step - loss: 2316.4971 - val_loss: 7933.8188\n",
      "Epoch 35/50\n",
      "12/12 [==============================] - 0s 4ms/step - loss: 2314.5596 - val_loss: 7929.4912\n",
      "Epoch 36/50\n",
      "12/12 [==============================] - 0s 4ms/step - loss: 2310.0752 - val_loss: 7931.4111\n",
      "Epoch 37/50\n",
      "12/12 [==============================] - 0s 3ms/step - loss: 2309.5459 - val_loss: 7931.3701\n",
      "Epoch 38/50\n",
      "12/12 [==============================] - 0s 3ms/step - loss: 2305.5598 - val_loss: 7929.4160\n",
      "Epoch 39/50\n",
      "12/12 [==============================] - 0s 3ms/step - loss: 2303.5889 - val_loss: 7930.8564\n",
      "Epoch 40/50\n",
      "12/12 [==============================] - 0s 3ms/step - loss: 2301.1873 - val_loss: 7930.4663\n",
      "Epoch 41/50\n",
      "12/12 [==============================] - 0s 3ms/step - loss: 2298.8359 - val_loss: 7931.1299\n",
      "Epoch 42/50\n",
      "12/12 [==============================] - 0s 4ms/step - loss: 2296.8936 - val_loss: 7929.3472\n",
      "Epoch 43/50\n",
      "12/12 [==============================] - 0s 3ms/step - loss: 2293.8757 - val_loss: 7931.6821\n",
      "Epoch 44/50\n",
      "12/12 [==============================] - 0s 3ms/step - loss: 2291.9534 - val_loss: 7934.3374\n",
      "Epoch 45/50\n",
      "12/12 [==============================] - 0s 3ms/step - loss: 2290.0776 - val_loss: 7935.1626\n",
      "Epoch 46/50\n",
      "12/12 [==============================] - 0s 4ms/step - loss: 2286.5276 - val_loss: 7934.0923\n",
      "Epoch 47/50\n",
      "12/12 [==============================] - 0s 5ms/step - loss: 2284.9331 - val_loss: 7938.9839\n",
      "Epoch 48/50\n",
      "12/12 [==============================] - 0s 3ms/step - loss: 2281.0420 - val_loss: 7940.3989\n",
      "Epoch 49/50\n",
      "12/12 [==============================] - 0s 5ms/step - loss: 2279.7737 - val_loss: 7941.1084\n",
      "Epoch 50/50\n",
      "12/12 [==============================] - 0s 3ms/step - loss: 2277.2446 - val_loss: 7943.4912\n"
     ]
    }
   ],
   "source": [
    "history = model.fit(training_data_prepared, train_label, \n",
    "                    validation_data = (test_data_prepared, test_label), epochs=50)"
   ]
  },
  {
   "cell_type": "markdown",
   "id": "fZD8FlqtEPfT",
   "metadata": {
    "id": "fZD8FlqtEPfT"
   },
   "source": [
    "<a name='3-5'></a>\n",
    "\n",
    "## 3.5 Evaluating a Model"
   ]
  },
  {
   "cell_type": "markdown",
   "id": "TUOlu65YEif6",
   "metadata": {
    "id": "TUOlu65YEif6"
   },
   "source": [
    "After we have trained the model, the next step is to evaluate it. \n",
    "\n",
    "But first off, we can plot the loss versus the epochs to see how it performed. Plotting the model metrics is a fundamental step in performing the error analysis. \n",
    "\n",
    "`loss` and `val_loss` are contained in `history.history` and the number of epochs are in `history.epoch`. "
   ]
  },
  {
   "cell_type": "code",
   "execution_count": 68,
   "id": "yMg2Zo3rEif-",
   "metadata": {
    "colab": {
     "base_uri": "https://localhost:8080/",
     "height": 337
    },
    "id": "yMg2Zo3rEif-",
    "outputId": "57b051d9-d03d-4295-a6a3-4229d54229d9"
   },
   "outputs": [
    {
     "data": {
      "text/plain": [
       "<matplotlib.axes._subplots.AxesSubplot at 0x7fc11db0e690>"
      ]
     },
     "execution_count": 68,
     "metadata": {
      "tags": []
     },
     "output_type": "execute_result"
    },
    {
     "data": {
      "image/png": "[encoded data removed]",
      "text/plain": [
       "<Figure size 720x360 with 1 Axes>"
      ]
     },
     "metadata": {
      "needs_background": "light",
      "tags": []
     },
     "output_type": "display_data"
    }
   ],
   "source": [
    "loss_df = pd.DataFrame(history.history)\n",
    "\n",
    "# Plot loss vs epochs\n",
    "\n",
    "loss_df.plot(figsize=(10,5))"
   ]
  },
  {
   "cell_type": "code",
   "execution_count": 69,
   "id": "q2co33ICNWKo",
   "metadata": {
    "colab": {
     "base_uri": "https://localhost:8080/"
    },
    "id": "q2co33ICNWKo",
    "outputId": "4de0e3ae-8618-46f2-b291-be53474418d3"
   },
   "outputs": [
    {
     "name": "stdout",
     "output_type": "stream",
     "text": [
      "5/5 [==============================] - 0s 2ms/step - loss: 7943.4912\n"
     ]
    },
    {
     "data": {
      "text/plain": [
       "7943.4912109375"
      ]
     },
     "execution_count": 69,
     "metadata": {
      "tags": []
     },
     "output_type": "execute_result"
    }
   ],
   "source": [
    "model.evaluate(test_data_prepared, test_label)"
   ]
  },
  {
   "cell_type": "markdown",
   "id": "nyhlBiJeGDoS",
   "metadata": {
    "id": "nyhlBiJeGDoS"
   },
   "source": [
    "The results are quite awful. Let's try to think why the model is not doing well. There are some few things to draw from the graph above. \n",
    "\n",
    "* Ideally, both validation and training loss should decrease during training. If training doesn't decrease, it's very likely that the input features don't contain enough information to predict the output. \n",
    "\n",
    "* Both `loss` and `val_loss` didn't improve alot, and there is no evidence that training for more epochs will improve the results. Quite the opposite, there is evidence that it will not improve.\n",
    "\n",
    "* How about adding more layers, or neurons? There is a notion that a model is as good as the data it was trained on. The sure thing to do here is to improve the data. \n",
    "\n",
    "One might argue that everything should work perfectly, but I don't see a point of always using datasets that you will will always work. In some scenarios, that's fine. \n",
    "\n",
    "But the aim of this labs and other previous/later labs is to introduce you to uncommon datasets wherever possible. If something doesn't work, you will learn why it doesn't work and what can be done to make it work. "
   ]
  },
  {
   "cell_type": "markdown",
   "id": "6bhEnsQqNEmS",
   "metadata": {
    "id": "6bhEnsQqNEmS"
   },
   "source": [
    "<a name='3-6'></a>\n",
    "\n",
    "## 3.6 Saving and Loading a model"
   ]
  },
  {
   "cell_type": "markdown",
   "id": "BoN-N6yNNMqK",
   "metadata": {
    "id": "BoN-N6yNNMqK"
   },
   "source": [
    "I something went well, from training to evaluating to improving a model, you would want to save it. \n",
    "\n",
    "Here is how to save a model and how to load a saved model. The model will be saved in HDF5 `format`. When the model is saved in such format, the whole model things are saved. "
   ]
  },
  {
   "cell_type": "code",
   "execution_count": 70,
   "id": "mo-NVNHRNIp0",
   "metadata": {
    "id": "mo-NVNHRNIp0"
   },
   "outputs": [],
   "source": [
    "model.save('forest_model.h5')"
   ]
  },
  {
   "cell_type": "markdown",
   "id": "htzej8JaOwiB",
   "metadata": {
    "id": "htzej8JaOwiB"
   },
   "source": [
    "And loading the model is simple too..."
   ]
  },
  {
   "cell_type": "code",
   "execution_count": 74,
   "id": "2ZBPS83dOvXA",
   "metadata": {
    "id": "2ZBPS83dOvXA"
   },
   "outputs": [],
   "source": [
    "loaded_model = keras.models.load_model('forest_model.h5')"
   ]
  },
  {
   "cell_type": "markdown",
   "id": "UncTnf4sQEcF",
   "metadata": {
    "id": "UncTnf4sQEcF"
   },
   "source": [
    "If you were building a website for instance, you can save a model and load it to make predictions. "
   ]
  },
  {
   "cell_type": "markdown",
   "id": "JL1emoFCQ3v2",
   "metadata": {
    "id": "JL1emoFCQ3v2"
   },
   "source": [
    "<a name='3-7'></a>\n",
    "\n",
    "## 3.7 Final Notes"
   ]
  },
  {
   "cell_type": "markdown",
   "id": "03YHhwcrQ-pC",
   "metadata": {
    "id": "03YHhwcrQ-pC"
   },
   "source": [
    "It has been a quite long journey, from fitting a straight line to building a neural network for a real world dataset. \n",
    "\n",
    "Ideally, for all datasets we used, neural networks would not be a suitable model. But because we are learning, it makes sense to start simple for the sake of understanding the latter. \n",
    "\n",
    "In the next lab, we will do classification with neural networks. Later we will go deep into areas that neural networks have shown potential such as computer vision and natural language processing, and that's where we will practice all possible techniques of improving the results of the neural networks."
   ]
  },
  {
   "cell_type": "markdown",
   "id": "Xwl8zemTSVx2",
   "metadata": {
    "id": "Xwl8zemTSVx2"
   },
   "source": [
    "## [BACK TO TOP](#0)"
   ]
  },
  {
   "cell_type": "code",
   "execution_count": null,
   "id": "6EuyW3AVSbL4",
   "metadata": {
    "id": "6EuyW3AVSbL4"
   },
   "outputs": [],
   "source": []
  }
 ],
 "metadata": {
  "colab": {
   "collapsed_sections": [],
   "name": "7.3 Neural Networks for Regression with TensorFlow.ipynb",
   "provenance": []
  },
  "kernelspec": {
   "display_name": "Python 3",
   "language": "python",
   "name": "python3"
  },
  "language_info": {
   "codemirror_mode": {
    "name": "ipython",
    "version": 3
   },
   "file_extension": ".py",
   "mimetype": "text/x-python",
   "name": "python",
   "nbconvert_exporter": "python",
   "pygments_lexer": "ipython3",
   "version": "3.7.10"
  }
 },
 "nbformat": 4,
 "nbformat_minor": 5
}
